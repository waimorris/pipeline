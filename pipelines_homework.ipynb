{
  "cells": [
    {
      "cell_type": "markdown",
      "id": "417a9e80-e1be-4db4-bfa5-831570a39fe3",
      "metadata": {
        "id": "417a9e80-e1be-4db4-bfa5-831570a39fe3"
      },
      "source": [
        "# HF Transformers 核心模块学习：Pipelines\n",
        "\n",
        "**Pipelines**（管道）是使用模型进行推理的一种简单易上手的方式。\n",
        "\n",
        "这些管道是抽象了 Transformers 库中大部分复杂代码的对象，提供了一个专门用于多种任务的简单API，包括**命名实体识别、掩码语言建模、情感分析、特征提取和问答**等。\n",
        "\n",
        "\n",
        "| Modality                    | Task                         | Description                                                | Pipeline API                                  |\n",
        "| --------------------------- | ---------------------------- | ---------------------------------------------------------- | --------------------------------------------- |\n",
        "| Audio                       | Audio classification         | 为音频文件分配一个标签                                     | pipeline(task=“audio-classification”)         |\n",
        "|                             | Automatic speech recognition | 将音频文件中的语音提取为文本                               | pipeline(task=“automatic-speech-recognition”) |\n",
        "| Computer vision             | Image classification         | 为图像分配一个标签                                         | pipeline(task=“image-classification”)         |\n",
        "|                             | Object detection             | 预测图像中目标对象的边界框和类别                           | pipeline(task=“object-detection”)             |\n",
        "|                             | Image segmentation           | 为图像中每个独立的像素分配标签（支持语义、全景和实例分割） | pipeline(task=“image-segmentation”)           |\n",
        "| Natural language processing | Text classification          | 为给定的文本序列分配一个标签                               | pipeline(task=“sentiment-analysis”)           |\n",
        "|                             | Token classification         | 为序列里的每个 token 分配一个标签（人, 组织, 地址等等）    | pipeline(task=“ner”)                          |\n",
        "|                             | Question answering           | 通过给定的上下文和问题, 在文本中提取答案                   | pipeline(task=“question-answering”)           |\n",
        "|                             | Summarization                | 为文本序列或文档生成总结                                   | pipeline(task=“summarization”)                |\n",
        "|                             | Translation                  | 将文本从一种语言翻译为另一种语言                           | pipeline(task=“translation”)                  |\n",
        "| Multimodal                  | Document question answering  | 根据给定的文档和问题回答一个关于该文档的问题。             | pipeline(task=“document-question-answering”)  |\n",
        "|                             | Visual Question Answering    | 给定一个图像和一个问题，正确地回答有关图像的问题           | pipeline(task=“vqa”)                          |\n",
        "\n",
        "\n",
        "\n",
        "Pipelines 已支持的完整任务列表：https://huggingface.co/docs/transformers/task_summary\n"
      ]
    },
    {
      "cell_type": "markdown",
      "id": "418f2e3c-a185-4164-ab8b-3b8c98c3b4a5",
      "metadata": {
        "id": "418f2e3c-a185-4164-ab8b-3b8c98c3b4a5"
      },
      "source": [
        "## Pipeline API\n",
        "\n",
        "**Pipeline API** 是对所有其他可用管道的包装。它可以像任何其他管道一样实例化，并且降低AI推理的学习和使用成本。\n",
        "\n",
        "![](https://github.com/DjangoPeng/LLM-quickstart/blob/main/transformers/docs/images/pipeline_func.png?raw=1)\n",
        "\n",
        "### 使用 Pipeline API 实现 Text Classification 任务\n",
        "\n",
        "\n",
        "**Text classification**(文本分类)与任何模态中的分类任务一样，文本分类将一个文本序列（可以是句子级别、段落或者整篇文章）标记为预定义的类别集合之一。文本分类有许多实际应用，其中包括：\n",
        "\n",
        "- 情感分析：根据某种极性（如积极或消极）对文本进行标记，以在政治、金融和市场等领域支持决策制定。\n",
        "- 内容分类：根据某个主题对文本进行标记，以帮助组织和过滤新闻和社交媒体信息流中的信息（天气、体育、金融等）。\n",
        "\n",
        "\n",
        "下面以 `Text classification` 中的情感分析任务为例，展示如何使用 Pipeline API。\n",
        "\n",
        "模型主页：https://huggingface.co/distilbert-base-uncased-finetuned-sst-2-english"
      ]
    },
    {
      "cell_type": "markdown",
      "id": "b9c38e82-e8f6-4af0-b257-b46f446aa249",
      "metadata": {
        "tags": [],
        "id": "b9c38e82-e8f6-4af0-b257-b46f446aa249"
      },
      "source": [
        "## transformers 自定义模型下载的路径\n",
        "\n",
        "在transformers自定义模型下载的路径方法\n",
        "\n",
        "```python\n",
        "import os\n",
        "\n",
        "os.environ['HF_HOME'] = '/mnt/new_volume/hf'\n",
        "os.environ['HF_HUB_CACHE'] = '/mnt/new_volume/hf/hub'\n",
        "```"
      ]
    },
    {
      "cell_type": "code",
      "execution_count": null,
      "id": "9684ec5f-9460-4876-9883-69380eacb0e7",
      "metadata": {
        "id": "9684ec5f-9460-4876-9883-69380eacb0e7",
        "outputId": "0b07f617-5c3a-44a6-ff9e-dfdb472c0df9"
      },
      "outputs": [
        {
          "name": "stderr",
          "output_type": "stream",
          "text": [
            "No model was supplied, defaulted to distilbert-base-uncased-finetuned-sst-2-english and revision af0f99b (https://huggingface.co/distilbert-base-uncased-finetuned-sst-2-english).\n",
            "Using a pipeline without specifying a model name and revision in production is not recommended.\n"
          ]
        },
        {
          "data": {
            "text/plain": [
              "[{'label': 'NEGATIVE', 'score': 0.8957212567329407}]"
            ]
          },
          "execution_count": 1,
          "metadata": {},
          "output_type": "execute_result"
        }
      ],
      "source": [
        "from transformers import pipeline\n",
        "\n",
        "# 仅指定任务时，使用默认模型（不推荐）\n",
        "pipe = pipeline(\"sentiment-analysis\")\n",
        "pipe(\"今儿上海可真冷啊\")"
      ]
    },
    {
      "cell_type": "markdown",
      "id": "63a12486-952a-447d-9e90-6b041349a26e",
      "metadata": {
        "id": "63a12486-952a-447d-9e90-6b041349a26e"
      },
      "source": [
        "### 测试更多示例"
      ]
    },
    {
      "cell_type": "code",
      "execution_count": null,
      "id": "ee67f529-3d32-4834-b29a-e51a65cf4d49",
      "metadata": {
        "id": "ee67f529-3d32-4834-b29a-e51a65cf4d49",
        "outputId": "0cf4af9b-ab12-42c2-e552-3308488abe7e"
      },
      "outputs": [
        {
          "data": {
            "text/plain": [
              "[{'label': 'NEGATIVE', 'score': 0.9238728880882263}]"
            ]
          },
          "execution_count": 2,
          "metadata": {},
          "output_type": "execute_result"
        }
      ],
      "source": [
        "pipe(\"我觉得这家店蒜泥白肉的味道一般\")"
      ]
    },
    {
      "cell_type": "code",
      "execution_count": null,
      "id": "4e104034-94ca-4370-8d35-438501c29ead",
      "metadata": {
        "id": "4e104034-94ca-4370-8d35-438501c29ead",
        "outputId": "6a6a0fbd-de55-4de4-c49f-973a459ba23a"
      },
      "outputs": [
        {
          "data": {
            "text/plain": [
              "[{'label': 'NEGATIVE', 'score': 0.8578686118125916}]"
            ]
          },
          "execution_count": 3,
          "metadata": {},
          "output_type": "execute_result"
        }
      ],
      "source": [
        "# 默认使用的模型 distilbert-base-uncased-finetuned-sst-2-english\n",
        "# 并未针对中文做太多训练，中文的文本分类任务表现未必满意\n",
        "pipe(\"你学东西真的好快，理论课一讲就明白了\")"
      ]
    },
    {
      "cell_type": "code",
      "execution_count": null,
      "id": "9c3d11aa-d523-491c-8910-bdc8aba49487",
      "metadata": {
        "id": "9c3d11aa-d523-491c-8910-bdc8aba49487",
        "outputId": "c583474b-f7f7-49bf-b0b4-41bdc310d027"
      },
      "outputs": [
        {
          "data": {
            "text/plain": [
              "[{'label': 'POSITIVE', 'score': 0.9961802959442139}]"
            ]
          },
          "execution_count": 4,
          "metadata": {},
          "output_type": "execute_result"
        }
      ],
      "source": [
        "# 替换为英文后，文本分类任务的表现立刻改善\n",
        "pipe(\"You learn things really quickly. You understand the theory class as soon as it is taught.\")"
      ]
    },
    {
      "cell_type": "code",
      "execution_count": null,
      "id": "09df7300-2f0d-4bc4-9572-0631658e8253",
      "metadata": {
        "id": "09df7300-2f0d-4bc4-9572-0631658e8253",
        "outputId": "9179d29d-de82-4d6d-bd69-a8139474e9a1"
      },
      "outputs": [
        {
          "data": {
            "text/plain": [
              "[{'label': 'NEGATIVE', 'score': 0.9995032548904419}]"
            ]
          },
          "execution_count": 5,
          "metadata": {},
          "output_type": "execute_result"
        }
      ],
      "source": [
        "pipe(\"Today Shanghai is really cold.\")"
      ]
    },
    {
      "cell_type": "markdown",
      "id": "507dbfc3-5347-4b82-8ea1-4e6c3d81c07f",
      "metadata": {
        "id": "507dbfc3-5347-4b82-8ea1-4e6c3d81c07f"
      },
      "source": [
        "### 批处理调用模型推理"
      ]
    },
    {
      "cell_type": "code",
      "execution_count": null,
      "id": "1390396e-1af8-497f-85d9-6c9e984b4609",
      "metadata": {
        "id": "1390396e-1af8-497f-85d9-6c9e984b4609",
        "outputId": "755cf878-7bb4-4687-fd9a-3cf5e470bc1f"
      },
      "outputs": [
        {
          "data": {
            "text/plain": [
              "[{'label': 'NEGATIVE', 'score': 0.9995032548904419},\n",
              " {'label': 'NEGATIVE', 'score': 0.9984821677207947},\n",
              " {'label': 'POSITIVE', 'score': 0.9961802959442139}]"
            ]
          },
          "execution_count": 6,
          "metadata": {},
          "output_type": "execute_result"
        }
      ],
      "source": [
        "text_list = [\n",
        "    \"Today Shanghai is really cold.\",\n",
        "    \"I think the taste of the garlic mashed pork in this store is average.\",\n",
        "    \"You learn things really quickly. You understand the theory class as soon as it is taught.\"\n",
        "]\n",
        "\n",
        "pipe(text_list)"
      ]
    },
    {
      "cell_type": "code",
      "execution_count": null,
      "id": "3686758b-d7f7-4df9-889d-e63af47a138a",
      "metadata": {
        "id": "3686758b-d7f7-4df9-889d-e63af47a138a"
      },
      "outputs": [],
      "source": []
    },
    {
      "cell_type": "markdown",
      "id": "6d5a27fe-87d0-45fc-a31a-9a8db23e290a",
      "metadata": {
        "id": "6d5a27fe-87d0-45fc-a31a-9a8db23e290a"
      },
      "source": [
        "## 使用 Pipeline API 调用更多预定义任务\n",
        "\n",
        "## Natural Language Processing(NLP)\n",
        "\n",
        "**NLP**(自然语言处理)任务是最常见的任务类型之一，因为文本是我们进行交流的一种自然方式。要将文本转换为模型可识别的格式，需要对其进行分词。这意味着将一系列文本划分为单独的单词或子词（标记），然后将这些标记转换为数字。结果就是，您可以将一系列文本表示为一系列数字，并且一旦您拥有了一系列数字，它就可以输入到模型中来解决各种NLP任务！\n",
        "\n",
        "上面演示的 文本分类任务，以及接下来的标记、问答等任务都属于 NLP 范畴。\n",
        "\n",
        "### Token Classification\n",
        "\n",
        "在任何NLP任务中，文本都经过预处理，将文本序列分成单个单词或子词。这些被称为tokens。\n",
        "\n",
        "**Token Classification**（Token分类）将每个token分配一个来自预定义类别集的标签。\n",
        "\n",
        "两种常见的 Token 分类是：\n",
        "\n",
        "- 命名实体识别（NER）：根据实体类别（如组织、人员、位置或日期）对token进行标记。NER在生物医学设置中特别受欢迎，可以标记基因、蛋白质和药物名称。\n",
        "- 词性标注（POS）：根据其词性（如名词、动词或形容词）对标记进行标记。POS对于帮助翻译系统了解两个相同的单词如何在语法上不同很有用（作为名词的银行与作为动词的银行）。\n",
        "\n",
        "模型主页：https://huggingface.co/dbmdz/bert-large-cased-finetuned-conll03-english"
      ]
    },
    {
      "cell_type": "code",
      "execution_count": null,
      "id": "4f1ed125-f9ed-42d9-b102-dbc3172baefd",
      "metadata": {
        "id": "4f1ed125-f9ed-42d9-b102-dbc3172baefd",
        "outputId": "6c0bbb16-2780-431c-db84-a00a74d5bb52"
      },
      "outputs": [
        {
          "name": "stderr",
          "output_type": "stream",
          "text": [
            "No model was supplied, defaulted to dbmdz/bert-large-cased-finetuned-conll03-english and revision f2482bf (https://huggingface.co/dbmdz/bert-large-cased-finetuned-conll03-english).\n",
            "Using a pipeline without specifying a model name and revision in production is not recommended.\n",
            "Some weights of the model checkpoint at dbmdz/bert-large-cased-finetuned-conll03-english were not used when initializing BertForTokenClassification: ['bert.pooler.dense.bias', 'bert.pooler.dense.weight']\n",
            "- This IS expected if you are initializing BertForTokenClassification from the checkpoint of a model trained on another task or with another architecture (e.g. initializing a BertForSequenceClassification model from a BertForPreTraining model).\n",
            "- This IS NOT expected if you are initializing BertForTokenClassification from the checkpoint of a model that you expect to be exactly identical (initializing a BertForSequenceClassification model from a BertForSequenceClassification model).\n"
          ]
        }
      ],
      "source": [
        "from transformers import pipeline\n",
        "\n",
        "classifier = pipeline(task=\"ner\")"
      ]
    },
    {
      "cell_type": "code",
      "execution_count": null,
      "id": "68bab77c-0fe6-4781-b978-02d56829db33",
      "metadata": {
        "id": "68bab77c-0fe6-4781-b978-02d56829db33",
        "outputId": "39341928-7859-495f-e269-2848503e942c"
      },
      "outputs": [
        {
          "name": "stdout",
          "output_type": "stream",
          "text": [
            "{'entity': 'I-ORG', 'score': 0.9968, 'index': 1, 'word': 'Hu', 'start': 0, 'end': 2}\n",
            "{'entity': 'I-ORG', 'score': 0.9293, 'index': 2, 'word': '##gging', 'start': 2, 'end': 7}\n",
            "{'entity': 'I-ORG', 'score': 0.9763, 'index': 3, 'word': 'Face', 'start': 8, 'end': 12}\n",
            "{'entity': 'I-MISC', 'score': 0.9983, 'index': 6, 'word': 'French', 'start': 18, 'end': 24}\n",
            "{'entity': 'I-LOC', 'score': 0.999, 'index': 10, 'word': 'New', 'start': 42, 'end': 45}\n",
            "{'entity': 'I-LOC', 'score': 0.9987, 'index': 11, 'word': 'York', 'start': 46, 'end': 50}\n",
            "{'entity': 'I-LOC', 'score': 0.9992, 'index': 12, 'word': 'City', 'start': 51, 'end': 55}\n"
          ]
        }
      ],
      "source": [
        "preds = classifier(\"Hugging Face is a French company based in New York City.\")\n",
        "preds = [\n",
        "    {\n",
        "        \"entity\": pred[\"entity\"],\n",
        "        \"score\": round(pred[\"score\"], 4),\n",
        "        \"index\": pred[\"index\"],\n",
        "        \"word\": pred[\"word\"],\n",
        "        \"start\": pred[\"start\"],\n",
        "        \"end\": pred[\"end\"],\n",
        "    }\n",
        "    for pred in preds\n",
        "]\n",
        "print(*preds, sep=\"\\n\")"
      ]
    },
    {
      "cell_type": "markdown",
      "id": "21c72d55-e574-444f-96bc-62704022a148",
      "metadata": {
        "id": "21c72d55-e574-444f-96bc-62704022a148"
      },
      "source": [
        "#### 合并实体"
      ]
    },
    {
      "cell_type": "code",
      "execution_count": null,
      "id": "9b441191-6156-44b8-a323-db461ad06efb",
      "metadata": {
        "id": "9b441191-6156-44b8-a323-db461ad06efb",
        "outputId": "5188c582-7829-46d4-b6c5-152edf98df3c"
      },
      "outputs": [
        {
          "name": "stderr",
          "output_type": "stream",
          "text": [
            "No model was supplied, defaulted to dbmdz/bert-large-cased-finetuned-conll03-english and revision f2482bf (https://huggingface.co/dbmdz/bert-large-cased-finetuned-conll03-english).\n",
            "Using a pipeline without specifying a model name and revision in production is not recommended.\n",
            "Some weights of the model checkpoint at dbmdz/bert-large-cased-finetuned-conll03-english were not used when initializing BertForTokenClassification: ['bert.pooler.dense.bias', 'bert.pooler.dense.weight']\n",
            "- This IS expected if you are initializing BertForTokenClassification from the checkpoint of a model trained on another task or with another architecture (e.g. initializing a BertForSequenceClassification model from a BertForPreTraining model).\n",
            "- This IS NOT expected if you are initializing BertForTokenClassification from the checkpoint of a model that you expect to be exactly identical (initializing a BertForSequenceClassification model from a BertForSequenceClassification model).\n",
            "/root/miniconda3/lib/python3.11/site-packages/transformers/pipelines/token_classification.py:169: UserWarning: `grouped_entities` is deprecated and will be removed in version v5.0.0, defaulted to `aggregation_strategy=\"AggregationStrategy.SIMPLE\"` instead.\n",
            "  warnings.warn(\n"
          ]
        },
        {
          "data": {
            "text/plain": [
              "[{'entity_group': 'ORG',\n",
              "  'score': 0.9674639,\n",
              "  'word': 'Hugging Face',\n",
              "  'start': 0,\n",
              "  'end': 12},\n",
              " {'entity_group': 'MISC',\n",
              "  'score': 0.99828726,\n",
              "  'word': 'French',\n",
              "  'start': 18,\n",
              "  'end': 24},\n",
              " {'entity_group': 'LOC',\n",
              "  'score': 0.99896103,\n",
              "  'word': 'New York City',\n",
              "  'start': 42,\n",
              "  'end': 55}]"
            ]
          },
          "execution_count": 9,
          "metadata": {},
          "output_type": "execute_result"
        }
      ],
      "source": [
        "classifier = pipeline(task=\"ner\", grouped_entities=True)\n",
        "classifier(\"Hugging Face is a French company based in New York City.\")"
      ]
    },
    {
      "cell_type": "code",
      "execution_count": null,
      "id": "7736791b-9585-4534-9efe-3fae3b7b6ca8",
      "metadata": {
        "id": "7736791b-9585-4534-9efe-3fae3b7b6ca8"
      },
      "outputs": [],
      "source": []
    },
    {
      "cell_type": "markdown",
      "id": "369dda97-bd1a-4cb0-9636-47c2308c6289",
      "metadata": {
        "id": "369dda97-bd1a-4cb0-9636-47c2308c6289"
      },
      "source": [
        "### Question Answering\n",
        "\n",
        "**Question Answering**(问答)是另一个token-level的任务，返回一个问题的答案，有时带有上下文（开放领域），有时不带上下文（封闭领域）。每当我们向虚拟助手提出问题时，例如询问一家餐厅是否营业，就会发生这种情况。它还可以提供客户或技术支持，并帮助搜索引擎检索您要求的相关信息。\n",
        "\n",
        "有两种常见的问答类型：\n",
        "\n",
        "- 提取式：给定一个问题和一些上下文，模型必须从上下文中提取出一段文字作为答案\n",
        "- 生成式：给定一个问题和一些上下文，答案是根据上下文生成的；这种方法由`Text2TextGenerationPipeline`处理，而不是下面展示的`QuestionAnsweringPipeline`\n",
        "\n",
        "模型主页：https://huggingface.co/distilbert-base-cased-distilled-squad"
      ]
    },
    {
      "cell_type": "code",
      "execution_count": null,
      "id": "a5281b0b-6b57-4884-92e1-cc2677987360",
      "metadata": {
        "id": "a5281b0b-6b57-4884-92e1-cc2677987360",
        "outputId": "5758b8a6-c903-44cd-da04-7ca53b2d8bf0"
      },
      "outputs": [
        {
          "name": "stderr",
          "output_type": "stream",
          "text": [
            "No model was supplied, defaulted to distilbert-base-cased-distilled-squad and revision 626af31 (https://huggingface.co/distilbert-base-cased-distilled-squad).\n",
            "Using a pipeline without specifying a model name and revision in production is not recommended.\n"
          ]
        }
      ],
      "source": [
        "from transformers import pipeline\n",
        "\n",
        "question_answerer = pipeline(task=\"question-answering\")"
      ]
    },
    {
      "cell_type": "code",
      "execution_count": null,
      "id": "ca674a51-30a4-4dea-a443-e428925e990f",
      "metadata": {
        "id": "ca674a51-30a4-4dea-a443-e428925e990f",
        "outputId": "bc8795cc-fc78-47cd-8625-994d8cfbf415"
      },
      "outputs": [
        {
          "name": "stdout",
          "output_type": "stream",
          "text": [
            "score: 0.9327, start: 30, end: 54, answer: huggingface/transformers\n"
          ]
        }
      ],
      "source": [
        "preds = question_answerer(\n",
        "    question=\"What is the name of the repository?\",\n",
        "    context=\"The name of the repository is huggingface/transformers\",\n",
        ")\n",
        "print(\n",
        "    f\"score: {round(preds['score'], 4)}, start: {preds['start']}, end: {preds['end']}, answer: {preds['answer']}\"\n",
        ")"
      ]
    },
    {
      "cell_type": "code",
      "execution_count": null,
      "id": "f2158feb-a528-410a-aabf-f3bd7f2726c4",
      "metadata": {
        "id": "f2158feb-a528-410a-aabf-f3bd7f2726c4",
        "outputId": "de5135fc-be1d-4c05-cda7-51d78f02abe4"
      },
      "outputs": [
        {
          "name": "stdout",
          "output_type": "stream",
          "text": [
            "score: 0.9458, start: 115, end: 122, answer: Beijing\n"
          ]
        }
      ],
      "source": [
        "preds = question_answerer(\n",
        "    question=\"What is the capital of China?\",\n",
        "    context=\"On 1 October 1949, CCP Chairman Mao Zedong formally proclaimed the People's Republic of China in Tiananmen Square, Beijing.\",\n",
        ")\n",
        "print(\n",
        "    f\"score: {round(preds['score'], 4)}, start: {preds['start']}, end: {preds['end']}, answer: {preds['answer']}\"\n",
        ")"
      ]
    },
    {
      "cell_type": "code",
      "execution_count": null,
      "id": "fdb1d7e5-6baa-4142-81c1-5d311c0440e6",
      "metadata": {
        "id": "fdb1d7e5-6baa-4142-81c1-5d311c0440e6"
      },
      "outputs": [],
      "source": []
    },
    {
      "cell_type": "code",
      "execution_count": null,
      "id": "eebd7483-99a5-4f2a-894c-13cf5a3b71b2",
      "metadata": {
        "id": "eebd7483-99a5-4f2a-894c-13cf5a3b71b2"
      },
      "outputs": [],
      "source": []
    },
    {
      "cell_type": "markdown",
      "id": "d995cb85-ab8f-4b28-9413-1a83fa3e4c4d",
      "metadata": {
        "id": "d995cb85-ab8f-4b28-9413-1a83fa3e4c4d"
      },
      "source": [
        "### Summarization\n",
        "\n",
        "**Summarization**(文本摘要）从较长的文本中创建一个较短的版本，同时尽可能保留原始文档的大部分含义。摘要是一个序列到序列的任务；它输出比输入更短的文本序列。有许多长篇文档可以进行摘要，以帮助读者快速了解主要要点。法案、法律和财务文件、专利和科学论文等文档可以摘要，以节省读者的时间并作为阅读辅助工具。\n",
        "\n",
        "与问答类似，摘要有两种类型：\n",
        "\n",
        "- 提取式：从原始文本中识别和提取最重要的句子\n",
        "- 生成式：从原始文本中生成目标摘要（可能包括输入文件中没有的新单词）；`SummarizationPipeline`使用生成式方法\n",
        "\n",
        "模型主页：https://huggingface.co/t5-base"
      ]
    },
    {
      "cell_type": "code",
      "execution_count": null,
      "id": "8e028f36-2b50-4ae3-8dce-2f0ac685e8fb",
      "metadata": {
        "id": "8e028f36-2b50-4ae3-8dce-2f0ac685e8fb",
        "outputId": "ade6928e-9ad5-43ea-88c5-42a7cbda0a1a"
      },
      "outputs": [
        {
          "name": "stderr",
          "output_type": "stream",
          "text": [
            "/root/miniconda3/lib/python3.11/site-packages/transformers/models/t5/tokenization_t5_fast.py:160: FutureWarning: This tokenizer was incorrectly instantiated with a model max length of 512 which will be corrected in Transformers v5.\n",
            "For now, this behavior is kept to avoid breaking backwards compatibility when padding/encoding with `truncation is True`.\n",
            "- Be aware that you SHOULD NOT rely on t5-base automatically truncating your input to 512 when padding/encoding.\n",
            "- If you want to encode/pad to sequences longer than 512 you can either instantiate this tokenizer with `model_max_length` or pass `max_length` when encoding/padding.\n",
            "- To avoid this warning, please instantiate this tokenizer with `model_max_length` set to your preferred value.\n",
            "  warnings.warn(\n"
          ]
        }
      ],
      "source": [
        "from transformers import pipeline\n",
        "\n",
        "summarizer = pipeline(task=\"summarization\",\n",
        "                      model=\"t5-base\",\n",
        "                      min_length=8,\n",
        "                      max_length=32,\n",
        ")"
      ]
    },
    {
      "cell_type": "code",
      "execution_count": null,
      "id": "8c760bbf-2ae4-4f84-bd5e-32c30ee6bd78",
      "metadata": {
        "id": "8c760bbf-2ae4-4f84-bd5e-32c30ee6bd78",
        "outputId": "a0e906db-8163-46eb-8144-3d9e850e0d0f"
      },
      "outputs": [
        {
          "data": {
            "text/plain": [
              "[{'summary_text': 'the Transformer is the first sequence transduction model based entirely on attention . it replaces recurrent layers commonly used in encoder-decode'}]"
            ]
          },
          "execution_count": 14,
          "metadata": {},
          "output_type": "execute_result"
        }
      ],
      "source": [
        "summarizer(\n",
        "    \"\"\"\n",
        "    In this work, we presented the Transformer, the first sequence transduction model based entirely on attention,\n",
        "    replacing the recurrent layers most commonly used in encoder-decoder architectures with multi-headed self-attention.\n",
        "    For translation tasks, the Transformer can be trained significantly faster than architectures based on recurrent or convolutional layers.\n",
        "    On both WMT 2014 English-to-German and WMT 2014 English-to-French translation tasks, we achieve a new state of the art.\n",
        "    In the former task our best model outperforms even all previously reported ensembles.\n",
        "    \"\"\"\n",
        ")\n"
      ]
    },
    {
      "cell_type": "code",
      "execution_count": null,
      "id": "b50ff52b-e61e-40cd-ab66-a591dc0c3b0d",
      "metadata": {
        "id": "b50ff52b-e61e-40cd-ab66-a591dc0c3b0d",
        "outputId": "d26ff4dd-6ddf-4f8c-c397-3599e11d9eda"
      },
      "outputs": [
        {
          "data": {
            "text/plain": [
              "[{'summary_text': 'large language models (LLMs) are very large deep learning models pre-trained on vast amounts of data . transformers are capable of un'}]"
            ]
          },
          "execution_count": 15,
          "metadata": {},
          "output_type": "execute_result"
        }
      ],
      "source": [
        "summarizer(\n",
        "    '''\n",
        "    Large language models (LLM) are very large deep learning models that are pre-trained on vast amounts of data.\n",
        "    The underlying transformer is a set of neural networks that consist of an encoder and a decoder with self-attention capabilities.\n",
        "    The encoder and decoder extract meanings from a sequence of text and understand the relationships between words and phrases in it.\n",
        "    Transformer LLMs are capable of unsupervised training, although a more precise explanation is that transformers perform self-learning.\n",
        "    It is through this process that transformers learn to understand basic grammar, languages, and knowledge.\n",
        "    Unlike earlier recurrent neural networks (RNN) that sequentially process inputs, transformers process entire sequences in parallel.\n",
        "    This allows the data scientists to use GPUs for training transformer-based LLMs, significantly reducing the training time.\n",
        "    '''\n",
        ")\n"
      ]
    },
    {
      "cell_type": "markdown",
      "id": "72315144-7fae-4848-af79-a70e428b2416",
      "metadata": {
        "id": "72315144-7fae-4848-af79-a70e428b2416"
      },
      "source": [
        "\n",
        "## Audio 音频处理任务\n",
        "\n",
        "音频和语音处理任务与其他模态略有不同，主要是因为音频作为输入是一个连续的信号。与文本不同，原始音频波形不能像句子可以被划分为单词那样被整齐地分割成离散的块。为了解决这个问题，通常在固定的时间间隔内对原始音频信号进行采样。如果在每个时间间隔内采样更多样本，采样率就会更高，音频更接近原始音频源。\n",
        "\n",
        "以前的方法是预处理音频以从中提取有用的特征。现在更常见的做法是直接将原始音频波形输入到特征编码器中，以提取音频表示。这样可以简化预处理步骤，并允许模型学习最重要的特征。\n",
        "\n",
        "### Audio classification\n",
        "\n",
        "**Audio classification**(音频分类)是一项将音频数据从预定义的类别集合中进行标记的任务。这是一个广泛的类别，具有许多具体的应用，其中一些包括：\n",
        "\n",
        "- 声学场景分类：使用场景标签（“办公室”、“海滩”、“体育场”）对音频进行标记。\n",
        "- 声学事件检测：使用声音事件标签（“汽车喇叭声”、“鲸鱼叫声”、“玻璃破碎声”）对音频进行标记。\n",
        "- 标记：对包含多种声音的音频进行标记（鸟鸣、会议中的说话人识别）。\n",
        "- 音乐分类：使用流派标签（“金属”、“嘻哈”、“乡村”）对音乐进行标记。\n",
        "\n",
        "模型主页：https://huggingface.co/superb/hubert-base-superb-er\n",
        "\n",
        "数据集主页：https://huggingface.co/datasets/superb#er\n",
        "\n",
        "```\n",
        "情感识别（ER）为每个话语预测一个情感类别。我们采用了最广泛使用的ER数据集IEMOCAP，并遵循传统的评估协议：我们删除不平衡的情感类别，只保留最后四个具有相似数量数据点的类别，并在标准分割的五折交叉验证上进行评估。评估指标是准确率（ACC）。\n",
        "```"
      ]
    },
    {
      "cell_type": "markdown",
      "id": "e4d4c1e9-8a67-4c72-8dce-ab326e0bc3b6",
      "metadata": {
        "id": "e4d4c1e9-8a67-4c72-8dce-ab326e0bc3b6"
      },
      "source": [
        "#### 前置依赖包安装\n",
        "\n",
        "建议在命令行安装必要的音频数据处理包: ffmpeg\n",
        "\n",
        "```shell\n",
        "$apt update & apt upgrade\n",
        "$apt install -y ffmpeg\n",
        "$pip install ffmpeg ffmpeg-python\n",
        "```"
      ]
    },
    {
      "cell_type": "code",
      "execution_count": null,
      "id": "2e1f8a8d-75eb-49ab-9353-6c9d1f384cac",
      "metadata": {
        "id": "2e1f8a8d-75eb-49ab-9353-6c9d1f384cac",
        "outputId": "798f5b2e-5d59-4da1-aaaf-387e00febe91"
      },
      "outputs": [
        {
          "name": "stderr",
          "output_type": "stream",
          "text": [
            "Some weights of the model checkpoint at superb/hubert-base-superb-er were not used when initializing HubertForSequenceClassification: ['hubert.encoder.pos_conv_embed.conv.weight_v', 'hubert.encoder.pos_conv_embed.conv.weight_g']\n",
            "- This IS expected if you are initializing HubertForSequenceClassification from the checkpoint of a model trained on another task or with another architecture (e.g. initializing a BertForSequenceClassification model from a BertForPreTraining model).\n",
            "- This IS NOT expected if you are initializing HubertForSequenceClassification from the checkpoint of a model that you expect to be exactly identical (initializing a BertForSequenceClassification model from a BertForSequenceClassification model).\n",
            "Some weights of HubertForSequenceClassification were not initialized from the model checkpoint at superb/hubert-base-superb-er and are newly initialized: ['hubert.encoder.pos_conv_embed.conv.parametrizations.weight.original0', 'hubert.encoder.pos_conv_embed.conv.parametrizations.weight.original1']\n",
            "You should probably TRAIN this model on a down-stream task to be able to use it for predictions and inference.\n"
          ]
        }
      ],
      "source": [
        "from transformers import pipeline\n",
        "\n",
        "classifier = pipeline(task=\"audio-classification\", model=\"superb/hubert-base-superb-er\")"
      ]
    },
    {
      "cell_type": "code",
      "execution_count": null,
      "id": "204a4159-d14d-4623-8340-93d15abcc549",
      "metadata": {
        "id": "204a4159-d14d-4623-8340-93d15abcc549",
        "outputId": "d004336d-c044-478a-8f68-46b8111a8c9d"
      },
      "outputs": [
        {
          "data": {
            "text/plain": [
              "[{'score': 0.4532, 'label': 'hap'},\n",
              " {'score': 0.3622, 'label': 'sad'},\n",
              " {'score': 0.0943, 'label': 'neu'},\n",
              " {'score': 0.0903, 'label': 'ang'}]"
            ]
          },
          "execution_count": 17,
          "metadata": {},
          "output_type": "execute_result"
        }
      ],
      "source": [
        "# 使用 Hugging Face Datasets 上的测试文件\n",
        "preds = classifier(\"https://huggingface.co/datasets/Narsil/asr_dummy/resolve/main/mlk.flac\")\n",
        "preds = [{\"score\": round(pred[\"score\"], 4), \"label\": pred[\"label\"]} for pred in preds]\n",
        "preds"
      ]
    },
    {
      "cell_type": "code",
      "execution_count": null,
      "id": "2528bf81-8289-4bb9-bf2d-c0ce9f7e8b36",
      "metadata": {
        "id": "2528bf81-8289-4bb9-bf2d-c0ce9f7e8b36",
        "outputId": "7680ec60-2ddf-4ebd-fdc0-03b7aaf6fa5e"
      },
      "outputs": [
        {
          "data": {
            "text/plain": [
              "[{'score': 0.4532, 'label': 'hap'},\n",
              " {'score': 0.3622, 'label': 'sad'},\n",
              " {'score': 0.0943, 'label': 'neu'},\n",
              " {'score': 0.0903, 'label': 'ang'}]"
            ]
          },
          "execution_count": 18,
          "metadata": {},
          "output_type": "execute_result"
        }
      ],
      "source": [
        "# 使用本地的音频文件做测试\n",
        "preds = classifier(\"data/audio/mlk.flac\")\n",
        "preds = [{\"score\": round(pred[\"score\"], 4), \"label\": pred[\"label\"]} for pred in preds]\n",
        "preds"
      ]
    },
    {
      "cell_type": "code",
      "execution_count": null,
      "id": "d6826a83-f5a5-454e-ac16-1f215abef861",
      "metadata": {
        "id": "d6826a83-f5a5-454e-ac16-1f215abef861"
      },
      "outputs": [],
      "source": []
    },
    {
      "cell_type": "markdown",
      "id": "e073cd1f-ba16-40a7-a029-bbd5e2a53dee",
      "metadata": {
        "id": "e073cd1f-ba16-40a7-a029-bbd5e2a53dee"
      },
      "source": [
        "### Automatic speech recognition（ASR）\n",
        "\n",
        "**Automatic speech recognition**（自动语音识别）将语音转录为文本。这是最常见的音频任务之一，部分原因是因为语音是人类交流的自然形式。如今，ASR系统嵌入在智能技术产品中，如扬声器、电话和汽车。我们可以要求虚拟助手播放音乐、设置提醒和告诉我们天气。\n",
        "\n",
        "但是，Transformer架构帮助解决的一个关键挑战是低资源语言。通过在大量语音数据上进行预训练，仅在一个低资源语言的一小时标记语音数据上进行微调，仍然可以产生与以前在100倍更多标记数据上训练的ASR系统相比高质量的结果。\n",
        "\n",
        "模型主页：https://huggingface.co/openai/whisper-small\n",
        "\n",
        "下面展示使用 `OpenAI Whisper Small` 模型实现 ASR 的 Pipeline API 示例："
      ]
    },
    {
      "cell_type": "code",
      "execution_count": null,
      "id": "68d14f8c-1571-4889-abd4-8fde09dc610a",
      "metadata": {
        "id": "68d14f8c-1571-4889-abd4-8fde09dc610a"
      },
      "outputs": [],
      "source": [
        "from transformers import pipeline\n",
        "\n",
        "# 使用 `model` 参数指定模型\n",
        "transcriber = pipeline(task=\"automatic-speech-recognition\", model=\"openai/whisper-small\")"
      ]
    },
    {
      "cell_type": "code",
      "execution_count": null,
      "id": "316ebe18-9c8e-4ded-96b7-751304aa9122",
      "metadata": {
        "id": "316ebe18-9c8e-4ded-96b7-751304aa9122",
        "outputId": "50e25b8b-bde9-4e67-c420-e5348501f9a7"
      },
      "outputs": [
        {
          "data": {
            "text/plain": [
              "{'text': ' I have a dream that one day this nation will rise up and live out the true meaning of its creed.'}"
            ]
          },
          "execution_count": 20,
          "metadata": {},
          "output_type": "execute_result"
        }
      ],
      "source": [
        "text = transcriber(\"data/audio/mlk.flac\")\n",
        "text"
      ]
    },
    {
      "cell_type": "code",
      "execution_count": null,
      "id": "192d5e06-ac4a-4a56-be36-9e445751bda6",
      "metadata": {
        "id": "192d5e06-ac4a-4a56-be36-9e445751bda6"
      },
      "outputs": [],
      "source": []
    },
    {
      "cell_type": "markdown",
      "id": "228b1482-1e13-4557-8d37-5d56e961b5c5",
      "metadata": {
        "id": "228b1482-1e13-4557-8d37-5d56e961b5c5"
      },
      "source": [
        "## Computer Vision 计算机视觉\n",
        "\n",
        "**Computer Vision**（计算机视觉）任务中最早成功之一是使用卷积神经网络（CNN）识别邮政编码数字图像。图像由像素组成，每个像素都有一个数值。这使得将图像表示为像素值矩阵变得容易。每个像素值组合描述了图像的颜色。\n",
        "\n",
        "计算机视觉任务可以通过以下两种通用方式解决：\n",
        "\n",
        "- 使用卷积来学习图像的层次特征，从低级特征到高级抽象特征。\n",
        "- 将图像分成块，并使用Transformer逐步学习每个图像块如何相互关联以形成图像。与CNN偏好的自底向上方法不同，这种方法有点像从一个模糊的图像开始，然后逐渐将其聚焦清晰。"
      ]
    },
    {
      "cell_type": "markdown",
      "id": "cf0bf9f4-6413-409b-968e-f03ca0c88367",
      "metadata": {
        "id": "cf0bf9f4-6413-409b-968e-f03ca0c88367"
      },
      "source": [
        "### Image Classificaiton\n",
        "\n",
        "**Image Classificaiton**(图像分类)将整个图像从预定义的类别集合中进行标记。像大多数分类任务一样，图像分类有许多实际用例，其中一些包括：\n",
        "\n",
        "- 医疗保健：标记医学图像以检测疾病或监测患者健康状况\n",
        "- 环境：标记卫星图像以监测森林砍伐、提供野外管理信息或检测野火\n",
        "- 农业：标记农作物图像以监测植物健康或用于土地使用监测的卫星图像\n",
        "- 生态学：标记动物或植物物种的图像以监测野生动物种群或跟踪濒危物种\n",
        "\n",
        "模型主页：https://huggingface.co/google/vit-base-patch16-224"
      ]
    },
    {
      "cell_type": "code",
      "execution_count": null,
      "id": "98ca9736-10b9-45b0-a3e3-925f153bab57",
      "metadata": {
        "id": "98ca9736-10b9-45b0-a3e3-925f153bab57",
        "outputId": "5d4e2f67-3a42-46f4-c0e2-6162b33fd690"
      },
      "outputs": [
        {
          "name": "stderr",
          "output_type": "stream",
          "text": [
            "No model was supplied, defaulted to google/vit-base-patch16-224 and revision 5dca96d (https://huggingface.co/google/vit-base-patch16-224).\n",
            "Using a pipeline without specifying a model name and revision in production is not recommended.\n"
          ]
        }
      ],
      "source": [
        "from transformers import pipeline\n",
        "\n",
        "classifier = pipeline(task=\"image-classification\")"
      ]
    },
    {
      "cell_type": "code",
      "execution_count": null,
      "id": "d8a41647-e8db-4d29-9dac-06c3c145acaa",
      "metadata": {
        "id": "d8a41647-e8db-4d29-9dac-06c3c145acaa",
        "outputId": "ec5f7909-7782-49e1-c14e-8617fc7e80d4"
      },
      "outputs": [
        {
          "name": "stdout",
          "output_type": "stream",
          "text": [
            "{'score': 0.4335, 'label': 'lynx, catamount'}\n",
            "{'score': 0.0348, 'label': 'cougar, puma, catamount, mountain lion, painter, panther, Felis concolor'}\n",
            "{'score': 0.0324, 'label': 'snow leopard, ounce, Panthera uncia'}\n",
            "{'score': 0.0239, 'label': 'Egyptian cat'}\n",
            "{'score': 0.0229, 'label': 'tiger cat'}\n"
          ]
        }
      ],
      "source": [
        "preds = classifier(\n",
        "    \"https://huggingface.co/datasets/huggingface/documentation-images/resolve/main/pipeline-cat-chonk.jpeg\"\n",
        ")\n",
        "preds = [{\"score\": round(pred[\"score\"], 4), \"label\": pred[\"label\"]} for pred in preds]\n",
        "print(*preds, sep=\"\\n\")"
      ]
    },
    {
      "cell_type": "markdown",
      "id": "662ecb60-ebb9-4f4e-82bc-21e79bb22d90",
      "metadata": {
        "id": "662ecb60-ebb9-4f4e-82bc-21e79bb22d90"
      },
      "source": [
        "![](https://github.com/DjangoPeng/LLM-quickstart/blob/main/transformers/data/image/cat-chonk.jpeg?raw=1)"
      ]
    },
    {
      "cell_type": "code",
      "execution_count": null,
      "id": "67592129-6430-4349-8016-7dde511ff69b",
      "metadata": {
        "id": "67592129-6430-4349-8016-7dde511ff69b",
        "outputId": "56354152-9826-41f1-b783-37f01c1c9d1d"
      },
      "outputs": [
        {
          "name": "stdout",
          "output_type": "stream",
          "text": [
            "{'score': 0.4335, 'label': 'lynx, catamount'}\n",
            "{'score': 0.0348, 'label': 'cougar, puma, catamount, mountain lion, painter, panther, Felis concolor'}\n",
            "{'score': 0.0324, 'label': 'snow leopard, ounce, Panthera uncia'}\n",
            "{'score': 0.0239, 'label': 'Egyptian cat'}\n",
            "{'score': 0.0229, 'label': 'tiger cat'}\n"
          ]
        }
      ],
      "source": [
        "# 使用本地图片（狼猫）\n",
        "preds = classifier(\n",
        "    \"data/image/cat-chonk.jpeg\"\n",
        ")\n",
        "preds = [{\"score\": round(pred[\"score\"], 4), \"label\": pred[\"label\"]} for pred in preds]\n",
        "print(*preds, sep=\"\\n\")"
      ]
    },
    {
      "cell_type": "markdown",
      "id": "8113c251-a648-4ea2-baa4-3081bb490c70",
      "metadata": {
        "id": "8113c251-a648-4ea2-baa4-3081bb490c70"
      },
      "source": [
        "![](https://github.com/DjangoPeng/LLM-quickstart/blob/main/transformers/data/image/panda.jpg?raw=1)"
      ]
    },
    {
      "cell_type": "code",
      "execution_count": null,
      "id": "a7e9b51a-d759-4398-9894-f10933dbed47",
      "metadata": {
        "id": "a7e9b51a-d759-4398-9894-f10933dbed47",
        "outputId": "c9bd9715-ec9e-4192-c1e8-d13971dce9b1"
      },
      "outputs": [
        {
          "name": "stdout",
          "output_type": "stream",
          "text": [
            "{'score': 0.9962, 'label': 'giant panda, panda, panda bear, coon bear, Ailuropoda melanoleuca'}\n",
            "{'score': 0.0018, 'label': 'lesser panda, red panda, panda, bear cat, cat bear, Ailurus fulgens'}\n",
            "{'score': 0.0002, 'label': 'ice bear, polar bear, Ursus Maritimus, Thalarctos maritimus'}\n",
            "{'score': 0.0001, 'label': 'sloth bear, Melursus ursinus, Ursus ursinus'}\n",
            "{'score': 0.0001, 'label': 'brown bear, bruin, Ursus arctos'}\n"
          ]
        }
      ],
      "source": [
        "# 使用本地图片（熊猫）\n",
        "preds = classifier(\n",
        "    \"data/image/panda.jpg\"\n",
        ")\n",
        "preds = [{\"score\": round(pred[\"score\"], 4), \"label\": pred[\"label\"]} for pred in preds]\n",
        "print(*preds, sep=\"\\n\")"
      ]
    },
    {
      "cell_type": "code",
      "execution_count": null,
      "id": "120f5fdb-2803-4f4f-9008-00dee9a6a557",
      "metadata": {
        "id": "120f5fdb-2803-4f4f-9008-00dee9a6a557"
      },
      "outputs": [],
      "source": []
    },
    {
      "cell_type": "markdown",
      "id": "8118a561-3dc9-4693-8c3b-3e29c37b4d71",
      "metadata": {
        "id": "8118a561-3dc9-4693-8c3b-3e29c37b4d71"
      },
      "source": [
        "### Object Detection\n",
        "\n",
        "与图像分类不同，目标检测在图像中识别多个对象以及这些对象在图像中的位置（由边界框定义）。目标检测的一些示例应用包括：\n",
        "\n",
        "- 自动驾驶车辆：检测日常交通对象，如其他车辆、行人和红绿灯\n",
        "- 遥感：灾害监测、城市规划和天气预报\n",
        "- 缺陷检测：检测建筑物中的裂缝或结构损坏，以及制造业产品缺陷\n",
        "\n",
        "模型主页：https://huggingface.co/facebook/detr-resnet-50"
      ]
    },
    {
      "cell_type": "markdown",
      "id": "e7122f04-7add-4623-8f3f-ccc00247524b",
      "metadata": {
        "id": "e7122f04-7add-4623-8f3f-ccc00247524b"
      },
      "source": [
        "#### 前置依赖包安装"
      ]
    },
    {
      "cell_type": "code",
      "execution_count": null,
      "id": "8cbc4227-cbcc-4f18-bf26-66535e66afb6",
      "metadata": {
        "collapsed": true,
        "jupyter": {
          "outputs_hidden": true
        },
        "id": "8cbc4227-cbcc-4f18-bf26-66535e66afb6",
        "outputId": "cf75eaaa-0e1e-4d48-ed45-f0a7f7d81c8c"
      },
      "outputs": [
        {
          "name": "stdout",
          "output_type": "stream",
          "text": [
            "Requirement already satisfied: timm in /root/miniconda3/lib/python3.11/site-packages (0.9.12)\n",
            "Requirement already satisfied: torch>=1.7 in /root/miniconda3/lib/python3.11/site-packages (from timm) (2.3.0.dev20240116+cu121)\n",
            "Requirement already satisfied: torchvision in /root/miniconda3/lib/python3.11/site-packages (from timm) (0.18.0.dev20240117+cu121)\n",
            "Requirement already satisfied: pyyaml in /root/miniconda3/lib/python3.11/site-packages (from timm) (6.0.1)\n",
            "Requirement already satisfied: huggingface-hub in /root/miniconda3/lib/python3.11/site-packages (from timm) (0.20.1)\n",
            "Requirement already satisfied: safetensors in /root/miniconda3/lib/python3.11/site-packages (from timm) (0.4.0)\n",
            "Requirement already satisfied: filelock in /root/miniconda3/lib/python3.11/site-packages (from torch>=1.7->timm) (3.9.0)\n",
            "Requirement already satisfied: typing-extensions>=4.8.0 in /root/miniconda3/lib/python3.11/site-packages (from torch>=1.7->timm) (4.8.0)\n",
            "Requirement already satisfied: sympy in /root/miniconda3/lib/python3.11/site-packages (from torch>=1.7->timm) (1.11.1)\n",
            "Requirement already satisfied: networkx in /root/miniconda3/lib/python3.11/site-packages (from torch>=1.7->timm) (3.0rc1)\n",
            "Requirement already satisfied: jinja2 in /root/miniconda3/lib/python3.11/site-packages (from torch>=1.7->timm) (3.1.2)\n",
            "Requirement already satisfied: fsspec in /root/miniconda3/lib/python3.11/site-packages (from torch>=1.7->timm) (2023.4.0)\n",
            "Requirement already satisfied: nvidia-cuda-nvrtc-cu12==12.1.105 in /root/miniconda3/lib/python3.11/site-packages (from torch>=1.7->timm) (12.1.105)\n",
            "Requirement already satisfied: nvidia-cuda-runtime-cu12==12.1.105 in /root/miniconda3/lib/python3.11/site-packages (from torch>=1.7->timm) (12.1.105)\n",
            "Requirement already satisfied: nvidia-cuda-cupti-cu12==12.1.105 in /root/miniconda3/lib/python3.11/site-packages (from torch>=1.7->timm) (12.1.105)\n",
            "Requirement already satisfied: nvidia-cudnn-cu12==8.9.2.26 in /root/miniconda3/lib/python3.11/site-packages (from torch>=1.7->timm) (8.9.2.26)\n",
            "Requirement already satisfied: nvidia-cublas-cu12==12.1.3.1 in /root/miniconda3/lib/python3.11/site-packages (from torch>=1.7->timm) (12.1.3.1)\n",
            "Requirement already satisfied: nvidia-cufft-cu12==11.0.2.54 in /root/miniconda3/lib/python3.11/site-packages (from torch>=1.7->timm) (11.0.2.54)\n",
            "Requirement already satisfied: nvidia-curand-cu12==10.3.2.106 in /root/miniconda3/lib/python3.11/site-packages (from torch>=1.7->timm) (10.3.2.106)\n",
            "Requirement already satisfied: nvidia-cusolver-cu12==11.4.5.107 in /root/miniconda3/lib/python3.11/site-packages (from torch>=1.7->timm) (11.4.5.107)\n",
            "Requirement already satisfied: nvidia-cusparse-cu12==12.1.0.106 in /root/miniconda3/lib/python3.11/site-packages (from torch>=1.7->timm) (12.1.0.106)\n",
            "Requirement already satisfied: nvidia-nccl-cu12==2.19.3 in /root/miniconda3/lib/python3.11/site-packages (from torch>=1.7->timm) (2.19.3)\n",
            "Requirement already satisfied: nvidia-nvtx-cu12==12.1.105 in /root/miniconda3/lib/python3.11/site-packages (from torch>=1.7->timm) (12.1.105)\n",
            "Requirement already satisfied: pytorch-triton==2.2.0+e28a256d71 in /root/miniconda3/lib/python3.11/site-packages (from torch>=1.7->timm) (2.2.0+e28a256d71)\n",
            "Requirement already satisfied: nvidia-nvjitlink-cu12 in /root/miniconda3/lib/python3.11/site-packages (from nvidia-cusolver-cu12==11.4.5.107->torch>=1.7->timm) (12.1.105)\n",
            "Collecting fsspec (from torch>=1.7->timm)\n",
            "  Using cached fsspec-2023.12.2-py3-none-any.whl.metadata (6.8 kB)\n",
            "Requirement already satisfied: requests in /root/miniconda3/lib/python3.11/site-packages (from huggingface-hub->timm) (2.28.1)\n",
            "Requirement already satisfied: tqdm>=4.42.1 in /root/miniconda3/lib/python3.11/site-packages (from huggingface-hub->timm) (4.66.1)\n",
            "Requirement already satisfied: packaging>=20.9 in /root/miniconda3/lib/python3.11/site-packages (from huggingface-hub->timm) (23.2)\n",
            "Requirement already satisfied: numpy in /root/miniconda3/lib/python3.11/site-packages (from torchvision->timm) (1.24.1)\n",
            "Requirement already satisfied: pillow!=8.3.*,>=5.3.0 in /root/miniconda3/lib/python3.11/site-packages (from torchvision->timm) (9.3.0)\n",
            "Requirement already satisfied: MarkupSafe>=2.0 in /root/miniconda3/lib/python3.11/site-packages (from jinja2->torch>=1.7->timm) (2.1.3)\n",
            "Requirement already satisfied: charset-normalizer<3,>=2 in /root/miniconda3/lib/python3.11/site-packages (from requests->huggingface-hub->timm) (2.1.1)\n",
            "Requirement already satisfied: idna<4,>=2.5 in /root/miniconda3/lib/python3.11/site-packages (from requests->huggingface-hub->timm) (3.4)\n",
            "Requirement already satisfied: urllib3<1.27,>=1.21.1 in /root/miniconda3/lib/python3.11/site-packages (from requests->huggingface-hub->timm) (1.26.13)\n",
            "Requirement already satisfied: certifi>=2017.4.17 in /root/miniconda3/lib/python3.11/site-packages (from requests->huggingface-hub->timm) (2022.12.7)\n",
            "Requirement already satisfied: mpmath>=0.19 in /root/miniconda3/lib/python3.11/site-packages (from sympy->torch>=1.7->timm) (1.2.1)\n",
            "Using cached fsspec-2023.12.2-py3-none-any.whl (168 kB)\n",
            "Installing collected packages: fsspec\n",
            "  Attempting uninstall: fsspec\n",
            "    Found existing installation: fsspec 2023.4.0\n",
            "    Uninstalling fsspec-2023.4.0:\n",
            "      Successfully uninstalled fsspec-2023.4.0\n",
            "\u001b[31mERROR: pip's dependency resolver does not currently take into account all the packages that are installed. This behaviour is the source of the following dependency conflicts.\n",
            "datasets 2.16.1 requires fsspec[http]<=2023.10.0,>=2023.1.0, but you have fsspec 2023.12.2 which is incompatible.\u001b[0m\u001b[31m\n",
            "\u001b[0mSuccessfully installed fsspec-2023.12.2\n",
            "\u001b[33mWARNING: Running pip as the 'root' user can result in broken permissions and conflicting behaviour with the system package manager. It is recommended to use a virtual environment instead: https://pip.pypa.io/warnings/venv\u001b[0m\u001b[33m\n",
            "\u001b[0m"
          ]
        }
      ],
      "source": [
        "!pip install timm"
      ]
    },
    {
      "cell_type": "code",
      "execution_count": null,
      "id": "c3401126-756b-4394-930c-c833c1f574b0",
      "metadata": {
        "id": "c3401126-756b-4394-930c-c833c1f574b0",
        "outputId": "91dfd367-6ac6-4f46-c237-ede0f2b9f7e7"
      },
      "outputs": [
        {
          "name": "stderr",
          "output_type": "stream",
          "text": [
            "No model was supplied, defaulted to facebook/detr-resnet-50 and revision 2729413 (https://huggingface.co/facebook/detr-resnet-50).\n",
            "Using a pipeline without specifying a model name and revision in production is not recommended.\n",
            "/root/miniconda3/lib/python3.11/site-packages/torchvision/io/image.py:13: UserWarning: Failed to load image Python extension: 'libpng16.so.16: cannot open shared object file: No such file or directory'If you don't plan on using image functionality from `torchvision.io`, you can ignore this warning. Otherwise, there might be something wrong with your environment. Did you have `libjpeg` or `libpng` installed before building `torchvision` from source?\n",
            "  warn(\n",
            "Some weights of the model checkpoint at facebook/detr-resnet-50 were not used when initializing DetrForObjectDetection: ['model.backbone.conv_encoder.model.layer2.0.downsample.1.num_batches_tracked', 'model.backbone.conv_encoder.model.layer3.0.downsample.1.num_batches_tracked', 'model.backbone.conv_encoder.model.layer4.0.downsample.1.num_batches_tracked', 'model.backbone.conv_encoder.model.layer1.0.downsample.1.num_batches_tracked']\n",
            "- This IS expected if you are initializing DetrForObjectDetection from the checkpoint of a model trained on another task or with another architecture (e.g. initializing a BertForSequenceClassification model from a BertForPreTraining model).\n",
            "- This IS NOT expected if you are initializing DetrForObjectDetection from the checkpoint of a model that you expect to be exactly identical (initializing a BertForSequenceClassification model from a BertForSequenceClassification model).\n",
            "Could not find image processor class in the image processor config or the model config. Loading based on pattern matching with the model's feature extractor configuration.\n",
            "The `max_size` parameter is deprecated and will be removed in v4.26. Please specify in `size['longest_edge'] instead`.\n"
          ]
        }
      ],
      "source": [
        "from transformers import pipeline\n",
        "\n",
        "detector = pipeline(task=\"object-detection\")"
      ]
    },
    {
      "cell_type": "code",
      "execution_count": null,
      "id": "32dc65d4-3868-4d10-a433-9f50832e8e68",
      "metadata": {
        "id": "32dc65d4-3868-4d10-a433-9f50832e8e68",
        "outputId": "e393a11c-d10d-4b22-d898-91b20a709ae3"
      },
      "outputs": [
        {
          "data": {
            "text/plain": [
              "[{'score': 0.9864,\n",
              "  'label': 'cat',\n",
              "  'box': {'xmin': 178, 'ymin': 154, 'xmax': 882, 'ymax': 598}}]"
            ]
          },
          "execution_count": 26,
          "metadata": {},
          "output_type": "execute_result"
        }
      ],
      "source": [
        "preds = detector(\n",
        "    \"https://huggingface.co/datasets/huggingface/documentation-images/resolve/main/pipeline-cat-chonk.jpeg\"\n",
        ")\n",
        "preds = [{\"score\": round(pred[\"score\"], 4), \"label\": pred[\"label\"], \"box\": pred[\"box\"]} for pred in preds]\n",
        "preds"
      ]
    },
    {
      "cell_type": "markdown",
      "id": "550759be-93ab-4988-81f0-c0cb8eccfda8",
      "metadata": {
        "id": "550759be-93ab-4988-81f0-c0cb8eccfda8"
      },
      "source": [
        "![](https://github.com/DjangoPeng/LLM-quickstart/blob/main/transformers/data/image/cat_dog.jpg?raw=1)"
      ]
    },
    {
      "cell_type": "code",
      "execution_count": null,
      "id": "40f66cd7-f2c8-4af3-b9ab-60012792ec1b",
      "metadata": {
        "id": "40f66cd7-f2c8-4af3-b9ab-60012792ec1b",
        "outputId": "e29696cc-ec10-41d2-d873-3cb8cffdd8ad"
      },
      "outputs": [
        {
          "data": {
            "text/plain": [
              "[{'score': 0.9985,\n",
              "  'label': 'cat',\n",
              "  'box': {'xmin': 78, 'ymin': 57, 'xmax': 309, 'ymax': 371}},\n",
              " {'score': 0.989,\n",
              "  'label': 'dog',\n",
              "  'box': {'xmin': 279, 'ymin': 20, 'xmax': 482, 'ymax': 416}}]"
            ]
          },
          "execution_count": 27,
          "metadata": {},
          "output_type": "execute_result"
        }
      ],
      "source": [
        "preds = detector(\n",
        "    \"data/image/cat_dog.jpg\"\n",
        ")\n",
        "preds = [{\"score\": round(pred[\"score\"], 4), \"label\": pred[\"label\"], \"box\": pred[\"box\"]} for pred in preds]\n",
        "preds"
      ]
    },
    {
      "cell_type": "code",
      "execution_count": null,
      "id": "1d591246-662b-47e0-8531-f862b05ba1ad",
      "metadata": {
        "id": "1d591246-662b-47e0-8531-f862b05ba1ad"
      },
      "outputs": [],
      "source": []
    },
    {
      "cell_type": "code",
      "execution_count": null,
      "id": "d1565e1d-20bf-4b19-86c1-dd3a8983a999",
      "metadata": {
        "id": "d1565e1d-20bf-4b19-86c1-dd3a8983a999"
      },
      "outputs": [],
      "source": []
    },
    {
      "cell_type": "markdown",
      "id": "e4993a9f-1032-46ab-97b1-a028d4bd5ebc",
      "metadata": {
        "id": "e4993a9f-1032-46ab-97b1-a028d4bd5ebc"
      },
      "source": [
        "### Homework：替换以上示例中的模型，对比不同模型在相同任务上的性能表现\n",
        "\n",
        "在 Hugging Face Models 中找到适合你的模型：https://huggingface.co/models"
      ]
    },
    {
      "cell_type": "code",
      "source": [
        "! pip install rouge-score"
      ],
      "metadata": {
        "id": "pZGep5rYjtZb",
        "outputId": "e1ab988f-0405-4ed9-c501-6ae3c9a44a21",
        "colab": {
          "base_uri": "https://localhost:8080/"
        }
      },
      "id": "pZGep5rYjtZb",
      "execution_count": null,
      "outputs": [
        {
          "output_type": "stream",
          "name": "stdout",
          "text": [
            "Collecting rouge-score\n",
            "  Downloading rouge_score-0.1.2.tar.gz (17 kB)\n",
            "  Preparing metadata (setup.py) ... \u001b[?25l\u001b[?25hdone\n",
            "Requirement already satisfied: absl-py in /usr/local/lib/python3.10/dist-packages (from rouge-score) (1.4.0)\n",
            "Requirement already satisfied: nltk in /usr/local/lib/python3.10/dist-packages (from rouge-score) (3.8.1)\n",
            "Requirement already satisfied: numpy in /usr/local/lib/python3.10/dist-packages (from rouge-score) (1.25.2)\n",
            "Requirement already satisfied: six>=1.14.0 in /usr/local/lib/python3.10/dist-packages (from rouge-score) (1.16.0)\n",
            "Requirement already satisfied: click in /usr/local/lib/python3.10/dist-packages (from nltk->rouge-score) (8.1.7)\n",
            "Requirement already satisfied: joblib in /usr/local/lib/python3.10/dist-packages (from nltk->rouge-score) (1.4.2)\n",
            "Requirement already satisfied: regex>=2021.8.3 in /usr/local/lib/python3.10/dist-packages (from nltk->rouge-score) (2024.5.15)\n",
            "Requirement already satisfied: tqdm in /usr/local/lib/python3.10/dist-packages (from nltk->rouge-score) (4.66.4)\n",
            "Building wheels for collected packages: rouge-score\n",
            "  Building wheel for rouge-score (setup.py) ... \u001b[?25l\u001b[?25hdone\n",
            "  Created wheel for rouge-score: filename=rouge_score-0.1.2-py3-none-any.whl size=24933 sha256=7e8b6468e40f638143ee878df7f6536165fc8ec9f48a6416d15a66f9bae58fea\n",
            "  Stored in directory: /root/.cache/pip/wheels/5f/dd/89/461065a73be61a532ff8599a28e9beef17985c9e9c31e541b4\n",
            "Successfully built rouge-score\n",
            "Installing collected packages: rouge-score\n",
            "Successfully installed rouge-score-0.1.2\n"
          ]
        }
      ]
    },
    {
      "cell_type": "code",
      "execution_count": null,
      "id": "be3f51d2-863d-44f6-836f-9051351985ae",
      "metadata": {
        "id": "be3f51d2-863d-44f6-836f-9051351985ae",
        "outputId": "09319d34-7ae3-4faa-bf74-652d492fd040",
        "colab": {
          "base_uri": "https://localhost:8080/",
          "height": 788,
          "referenced_widgets": [
            "0c94967022434160887b85cc7910ad4a",
            "169683ca4f24451087cbab4e08172436",
            "8e1ef94a3a5e4ebbb7d0854e652bf826",
            "6cfd06eb167f4143b4b98416a5f5b709",
            "8164cf86d57948afb97da4f8edd32b78",
            "ee09d94d56ca46399c69c22df86bb001",
            "4213425f0e2440f9a7284c4733d33e27",
            "fae502128e0d4d0f9a4192ca3a068832",
            "95bb33d7f6824e5994476ba5f4f0bd76",
            "876bf626bb6e4e1191e933cf61539898",
            "94baef6f39aa4132bb0f09f2d2f4241a",
            "16b0993673a840048c3263eac31d4a39",
            "41549d96217c40f3abe75cf8814a3056",
            "1051849d5d644d84b334e9608c2b5d78",
            "3b5b8f2b0b29456b9e99bcee1c29e7b8",
            "b29dbabcc1b84e5c8e0567a82b9ca1bb",
            "5456f5c2a1be42acad6ed3e1ff9dfce9",
            "452c85891143415d88895308d4f175de",
            "b333ef077d4c4ff184b8be55b429a3e0",
            "c9399c992b2540fe96b874a6a83331d3",
            "ceef143681e04d08a6b82a455517b778",
            "9b892cc46aba40c1bfa63d15f8843c6d",
            "fd201aec8e3e49819cb20344c722a991",
            "ae6af4f8ec3e49108b6d6241d9028f71",
            "94c4ad97b651444cab08afb195a73f6c",
            "74cce97918694225864c58a67d83dfa7",
            "6fd33482965e4e988b164dec4fcfbc7c",
            "4f57a9de66fc4ae295621db4ea67d616",
            "888e21257ac74fd8b4d19c6a0c7e7e5b",
            "26689c283ca84226a0dc06eca2ca0ba5",
            "80a91c160cbb4d08803158ae70b501a9",
            "56d2082e95b1476e8dacdad19208b1da",
            "ebf72f0c05e141c6903d5dc4ec714e6c",
            "c800ecaae5ed4706a6180496f6e3a5d7",
            "8e542276a0f943528f1ee4433cb5d3be",
            "eff8d3e007354432869a551744996f1f",
            "de70b3d6cd464cb3a9e13d88f0a40c8d",
            "08129f087135497185a07b84f2e91d3e",
            "5710fa39634a4dc89fb28ed048b1fa3e",
            "3debaef0dfc14c93bea103a5386ee625",
            "f5b147df9f1c4814b644e5087ccebbb4",
            "48d0f1ac46e4462798f481de2d048b17",
            "6897c024b258462c80808b863770603b",
            "92184f0df02c440fb81e950b71ed2303",
            "23b76cebce3a4c9ca3ee9bf799748c07",
            "4cbc241d17df4267bcadacfd8cbd2727",
            "f7a574eef0ea48d48827847144e355df",
            "31c52dca30d944f49129ec2386c72d13",
            "984995dd69744deaa7d63adfa5dcead8",
            "46f265bdf4e245d3b45e4378ecf3bd20",
            "f8fbae65be9948d6a20b3988441a42bc",
            "439493d2abde4ca49f8c01ee4d1ee7f9",
            "cca99af7c9f441808f4804496b8ade53",
            "dffb6ab288e944748570ce02e55b222a",
            "e7a55b0294e54a0094c829782d2d7ddb",
            "2314f89aa3a94d4d9bcc5296b6d9d3e8",
            "232698eeef2b402888272f2ce0252369",
            "5187afca895849828eaa4b0bce959784",
            "d2a0f378370d40f7b1c65d06b1da3954",
            "4ee9507ea3e540eb9e4d0243f5efe611",
            "539699062a6149e6a2d37cd09b5b0ca4",
            "1a20dcb9e1b04963a0c88b606f571607",
            "e04b077126094baaadc381b83733c721",
            "4bee4d54a44042a89197f1d5a6965a4b",
            "573354e56fd74b3a94441ebc085faada",
            "1446e8ae32c843f79d3505ca1368dce2"
          ]
        }
      },
      "outputs": [
        {
          "output_type": "stream",
          "name": "stdout",
          "text": [
            "Model: t5-small\n",
            "Summary: the Transformer replaces the recurrent layers most commonly used in encoder-decoder architectures with multi-headed self-attention . the\n",
            "Processing time: 4.0639 seconds\n",
            "ROUGE scores:\n",
            "  rouge1: 0.3500\n",
            "  rouge2: 0.0526\n",
            "  rougeL: 0.2000\n",
            "\n",
            "Model: t5-base\n",
            "Summary: the Transformer is the first sequence transduction model based entirely on attention . it replaces recurrent layers commonly used in encoder-decode\n",
            "Processing time: 7.9055 seconds\n",
            "ROUGE scores:\n",
            "  rouge1: 0.3810\n",
            "  rouge2: 0.0500\n",
            "  rougeL: 0.2857\n",
            "\n",
            "Model: facebook/bart-large-cnn\n",
            "Summary: The Transformer is the first sequence transduction model based entirely on attention. It replaces the recurrent layers most commonly used in encoder-decoder\n",
            "Processing time: 10.4153 seconds\n",
            "ROUGE scores:\n",
            "  rouge1: 0.3636\n",
            "  rouge2: 0.0476\n",
            "  rougeL: 0.2727\n",
            "\n"
          ]
        },
        {
          "output_type": "display_data",
          "data": {
            "text/plain": [
              "pytorch_model.bin:  66%|######5   | 1.50G/2.28G [00:00<?, ?B/s]"
            ],
            "application/vnd.jupyter.widget-view+json": {
              "version_major": 2,
              "version_minor": 0,
              "model_id": "0c94967022434160887b85cc7910ad4a"
            }
          },
          "metadata": {}
        },
        {
          "output_type": "stream",
          "name": "stderr",
          "text": [
            "Some weights of PegasusForConditionalGeneration were not initialized from the model checkpoint at google/pegasus-xsum and are newly initialized: ['model.decoder.embed_positions.weight', 'model.encoder.embed_positions.weight']\n",
            "You should probably TRAIN this model on a down-stream task to be able to use it for predictions and inference.\n"
          ]
        },
        {
          "output_type": "display_data",
          "data": {
            "text/plain": [
              "generation_config.json:   0%|          | 0.00/259 [00:00<?, ?B/s]"
            ],
            "application/vnd.jupyter.widget-view+json": {
              "version_major": 2,
              "version_minor": 0,
              "model_id": "16b0993673a840048c3263eac31d4a39"
            }
          },
          "metadata": {}
        },
        {
          "output_type": "display_data",
          "data": {
            "text/plain": [
              "tokenizer_config.json:   0%|          | 0.00/87.0 [00:00<?, ?B/s]"
            ],
            "application/vnd.jupyter.widget-view+json": {
              "version_major": 2,
              "version_minor": 0,
              "model_id": "fd201aec8e3e49819cb20344c722a991"
            }
          },
          "metadata": {}
        },
        {
          "output_type": "display_data",
          "data": {
            "text/plain": [
              "spiece.model:   0%|          | 0.00/1.91M [00:00<?, ?B/s]"
            ],
            "application/vnd.jupyter.widget-view+json": {
              "version_major": 2,
              "version_minor": 0,
              "model_id": "c800ecaae5ed4706a6180496f6e3a5d7"
            }
          },
          "metadata": {}
        },
        {
          "output_type": "display_data",
          "data": {
            "text/plain": [
              "tokenizer.json:   0%|          | 0.00/3.52M [00:00<?, ?B/s]"
            ],
            "application/vnd.jupyter.widget-view+json": {
              "version_major": 2,
              "version_minor": 0,
              "model_id": "23b76cebce3a4c9ca3ee9bf799748c07"
            }
          },
          "metadata": {}
        },
        {
          "output_type": "display_data",
          "data": {
            "text/plain": [
              "special_tokens_map.json:   0%|          | 0.00/65.0 [00:00<?, ?B/s]"
            ],
            "application/vnd.jupyter.widget-view+json": {
              "version_major": 2,
              "version_minor": 0,
              "model_id": "2314f89aa3a94d4d9bcc5296b6d9d3e8"
            }
          },
          "metadata": {}
        },
        {
          "output_type": "stream",
          "name": "stdout",
          "text": [
            "Model: google/pegasus-xsum\n",
            "Summary: We present Transformer, a novel multi-headed self-attention encoder-decoder for English-to-German and English-to-French translation tasks\n",
            "Processing time: 17.4379 seconds\n",
            "ROUGE scores:\n",
            "  rouge1: 0.2381\n",
            "  rouge2: 0.0500\n",
            "  rougeL: 0.2381\n",
            "\n"
          ]
        }
      ],
      "source": [
        "from transformers import pipeline\n",
        "import time\n",
        "from rouge_score import rouge_scorer\n",
        "\n",
        "def summarize_with_model(model_name, text):\n",
        "    summarizer = pipeline(task=\"summarization\", model=model_name, min_length=8, max_length=32)\n",
        "\n",
        "    start_time = time.time()\n",
        "    summary = summarizer(text)\n",
        "    end_time = time.time()\n",
        "\n",
        "    processing_time = end_time - start_time\n",
        "    return summary[0]['summary_text'], processing_time\n",
        "\n",
        "def calculate_rouge(reference, candidate):\n",
        "    scorer = rouge_scorer.RougeScorer(['rouge1', 'rouge2', 'rougeL'], use_stemmer=True)\n",
        "    scores = scorer.score(reference, candidate)\n",
        "    return scores\n",
        "\n",
        "text = \"\"\"\n",
        "In this work, we presented the Transformer, the first sequence transduction model based entirely on attention,\n",
        "replacing the recurrent layers most commonly used in encoder-decoder architectures with multi-headed self-attention.\n",
        "For translation tasks, the Transformer can be trained significantly faster than architectures based on recurrent or convolutional layers.\n",
        "On both WMT 2014 English-to-German and WMT 2014 English-to-French translation tasks, we achieve a new state of the art.\n",
        "In the former task our best model outperforms even all previously reported ensembles.\n",
        "\"\"\"\n",
        "\n",
        "# This is a reference summary we'll use to compare against\n",
        "reference_summary = \"Transformer model introduced, using attention instead of recurrent layers. Faster training and new state-of-the-art results in translation tasks.\"\n",
        "\n",
        "models = [\n",
        "    \"t5-small\",\n",
        "    \"t5-base\",\n",
        "    \"facebook/bart-large-cnn\",\n",
        "    \"google/pegasus-xsum\"\n",
        "]\n",
        "\n",
        "for model in models:\n",
        "    summary, processing_time = summarize_with_model(model, text)\n",
        "    rouge_scores = calculate_rouge(reference_summary, summary)\n",
        "\n",
        "    print(f\"Model: {model}\")\n",
        "    print(f\"Summary: {summary}\")\n",
        "    print(f\"Processing time: {processing_time:.4f} seconds\")\n",
        "    print(\"ROUGE scores:\")\n",
        "    for metric, score in rouge_scores.items():\n",
        "        print(f\"  {metric}: {score.fmeasure:.4f}\")\n",
        "    print()"
      ]
    },
    {
      "cell_type": "code",
      "source": [],
      "metadata": {
        "id": "JmSR2naZjoFJ"
      },
      "id": "JmSR2naZjoFJ",
      "execution_count": null,
      "outputs": []
    }
  ],
  "metadata": {
    "kernelspec": {
      "display_name": "Python 3 (ipykernel)",
      "language": "python",
      "name": "python3"
    },
    "language_info": {
      "codemirror_mode": {
        "name": "ipython",
        "version": 3
      },
      "file_extension": ".py",
      "mimetype": "text/x-python",
      "name": "python",
      "nbconvert_exporter": "python",
      "pygments_lexer": "ipython3",
      "version": "3.11.5"
    },
    "colab": {
      "provenance": []
    },
    "widgets": {
      "application/vnd.jupyter.widget-state+json": {
        "0c94967022434160887b85cc7910ad4a": {
          "model_module": "@jupyter-widgets/controls",
          "model_name": "HBoxModel",
          "model_module_version": "1.5.0",
          "state": {
            "_dom_classes": [],
            "_model_module": "@jupyter-widgets/controls",
            "_model_module_version": "1.5.0",
            "_model_name": "HBoxModel",
            "_view_count": null,
            "_view_module": "@jupyter-widgets/controls",
            "_view_module_version": "1.5.0",
            "_view_name": "HBoxView",
            "box_style": "",
            "children": [
              "IPY_MODEL_169683ca4f24451087cbab4e08172436",
              "IPY_MODEL_8e1ef94a3a5e4ebbb7d0854e652bf826",
              "IPY_MODEL_6cfd06eb167f4143b4b98416a5f5b709"
            ],
            "layout": "IPY_MODEL_8164cf86d57948afb97da4f8edd32b78"
          }
        },
        "169683ca4f24451087cbab4e08172436": {
          "model_module": "@jupyter-widgets/controls",
          "model_name": "HTMLModel",
          "model_module_version": "1.5.0",
          "state": {
            "_dom_classes": [],
            "_model_module": "@jupyter-widgets/controls",
            "_model_module_version": "1.5.0",
            "_model_name": "HTMLModel",
            "_view_count": null,
            "_view_module": "@jupyter-widgets/controls",
            "_view_module_version": "1.5.0",
            "_view_name": "HTMLView",
            "description": "",
            "description_tooltip": null,
            "layout": "IPY_MODEL_ee09d94d56ca46399c69c22df86bb001",
            "placeholder": "​",
            "style": "IPY_MODEL_4213425f0e2440f9a7284c4733d33e27",
            "value": "pytorch_model.bin: 100%"
          }
        },
        "8e1ef94a3a5e4ebbb7d0854e652bf826": {
          "model_module": "@jupyter-widgets/controls",
          "model_name": "FloatProgressModel",
          "model_module_version": "1.5.0",
          "state": {
            "_dom_classes": [],
            "_model_module": "@jupyter-widgets/controls",
            "_model_module_version": "1.5.0",
            "_model_name": "FloatProgressModel",
            "_view_count": null,
            "_view_module": "@jupyter-widgets/controls",
            "_view_module_version": "1.5.0",
            "_view_name": "ProgressView",
            "bar_style": "success",
            "description": "",
            "description_tooltip": null,
            "layout": "IPY_MODEL_fae502128e0d4d0f9a4192ca3a068832",
            "max": 2275329241,
            "min": 0,
            "orientation": "horizontal",
            "style": "IPY_MODEL_95bb33d7f6824e5994476ba5f4f0bd76",
            "value": 2275329241
          }
        },
        "6cfd06eb167f4143b4b98416a5f5b709": {
          "model_module": "@jupyter-widgets/controls",
          "model_name": "HTMLModel",
          "model_module_version": "1.5.0",
          "state": {
            "_dom_classes": [],
            "_model_module": "@jupyter-widgets/controls",
            "_model_module_version": "1.5.0",
            "_model_name": "HTMLModel",
            "_view_count": null,
            "_view_module": "@jupyter-widgets/controls",
            "_view_module_version": "1.5.0",
            "_view_name": "HTMLView",
            "description": "",
            "description_tooltip": null,
            "layout": "IPY_MODEL_876bf626bb6e4e1191e933cf61539898",
            "placeholder": "​",
            "style": "IPY_MODEL_94baef6f39aa4132bb0f09f2d2f4241a",
            "value": " 2.28G/2.28G [00:09&lt;00:00, 46.3MB/s]"
          }
        },
        "8164cf86d57948afb97da4f8edd32b78": {
          "model_module": "@jupyter-widgets/base",
          "model_name": "LayoutModel",
          "model_module_version": "1.2.0",
          "state": {
            "_model_module": "@jupyter-widgets/base",
            "_model_module_version": "1.2.0",
            "_model_name": "LayoutModel",
            "_view_count": null,
            "_view_module": "@jupyter-widgets/base",
            "_view_module_version": "1.2.0",
            "_view_name": "LayoutView",
            "align_content": null,
            "align_items": null,
            "align_self": null,
            "border": null,
            "bottom": null,
            "display": null,
            "flex": null,
            "flex_flow": null,
            "grid_area": null,
            "grid_auto_columns": null,
            "grid_auto_flow": null,
            "grid_auto_rows": null,
            "grid_column": null,
            "grid_gap": null,
            "grid_row": null,
            "grid_template_areas": null,
            "grid_template_columns": null,
            "grid_template_rows": null,
            "height": null,
            "justify_content": null,
            "justify_items": null,
            "left": null,
            "margin": null,
            "max_height": null,
            "max_width": null,
            "min_height": null,
            "min_width": null,
            "object_fit": null,
            "object_position": null,
            "order": null,
            "overflow": null,
            "overflow_x": null,
            "overflow_y": null,
            "padding": null,
            "right": null,
            "top": null,
            "visibility": null,
            "width": null
          }
        },
        "ee09d94d56ca46399c69c22df86bb001": {
          "model_module": "@jupyter-widgets/base",
          "model_name": "LayoutModel",
          "model_module_version": "1.2.0",
          "state": {
            "_model_module": "@jupyter-widgets/base",
            "_model_module_version": "1.2.0",
            "_model_name": "LayoutModel",
            "_view_count": null,
            "_view_module": "@jupyter-widgets/base",
            "_view_module_version": "1.2.0",
            "_view_name": "LayoutView",
            "align_content": null,
            "align_items": null,
            "align_self": null,
            "border": null,
            "bottom": null,
            "display": null,
            "flex": null,
            "flex_flow": null,
            "grid_area": null,
            "grid_auto_columns": null,
            "grid_auto_flow": null,
            "grid_auto_rows": null,
            "grid_column": null,
            "grid_gap": null,
            "grid_row": null,
            "grid_template_areas": null,
            "grid_template_columns": null,
            "grid_template_rows": null,
            "height": null,
            "justify_content": null,
            "justify_items": null,
            "left": null,
            "margin": null,
            "max_height": null,
            "max_width": null,
            "min_height": null,
            "min_width": null,
            "object_fit": null,
            "object_position": null,
            "order": null,
            "overflow": null,
            "overflow_x": null,
            "overflow_y": null,
            "padding": null,
            "right": null,
            "top": null,
            "visibility": null,
            "width": null
          }
        },
        "4213425f0e2440f9a7284c4733d33e27": {
          "model_module": "@jupyter-widgets/controls",
          "model_name": "DescriptionStyleModel",
          "model_module_version": "1.5.0",
          "state": {
            "_model_module": "@jupyter-widgets/controls",
            "_model_module_version": "1.5.0",
            "_model_name": "DescriptionStyleModel",
            "_view_count": null,
            "_view_module": "@jupyter-widgets/base",
            "_view_module_version": "1.2.0",
            "_view_name": "StyleView",
            "description_width": ""
          }
        },
        "fae502128e0d4d0f9a4192ca3a068832": {
          "model_module": "@jupyter-widgets/base",
          "model_name": "LayoutModel",
          "model_module_version": "1.2.0",
          "state": {
            "_model_module": "@jupyter-widgets/base",
            "_model_module_version": "1.2.0",
            "_model_name": "LayoutModel",
            "_view_count": null,
            "_view_module": "@jupyter-widgets/base",
            "_view_module_version": "1.2.0",
            "_view_name": "LayoutView",
            "align_content": null,
            "align_items": null,
            "align_self": null,
            "border": null,
            "bottom": null,
            "display": null,
            "flex": null,
            "flex_flow": null,
            "grid_area": null,
            "grid_auto_columns": null,
            "grid_auto_flow": null,
            "grid_auto_rows": null,
            "grid_column": null,
            "grid_gap": null,
            "grid_row": null,
            "grid_template_areas": null,
            "grid_template_columns": null,
            "grid_template_rows": null,
            "height": null,
            "justify_content": null,
            "justify_items": null,
            "left": null,
            "margin": null,
            "max_height": null,
            "max_width": null,
            "min_height": null,
            "min_width": null,
            "object_fit": null,
            "object_position": null,
            "order": null,
            "overflow": null,
            "overflow_x": null,
            "overflow_y": null,
            "padding": null,
            "right": null,
            "top": null,
            "visibility": null,
            "width": null
          }
        },
        "95bb33d7f6824e5994476ba5f4f0bd76": {
          "model_module": "@jupyter-widgets/controls",
          "model_name": "ProgressStyleModel",
          "model_module_version": "1.5.0",
          "state": {
            "_model_module": "@jupyter-widgets/controls",
            "_model_module_version": "1.5.0",
            "_model_name": "ProgressStyleModel",
            "_view_count": null,
            "_view_module": "@jupyter-widgets/base",
            "_view_module_version": "1.2.0",
            "_view_name": "StyleView",
            "bar_color": null,
            "description_width": ""
          }
        },
        "876bf626bb6e4e1191e933cf61539898": {
          "model_module": "@jupyter-widgets/base",
          "model_name": "LayoutModel",
          "model_module_version": "1.2.0",
          "state": {
            "_model_module": "@jupyter-widgets/base",
            "_model_module_version": "1.2.0",
            "_model_name": "LayoutModel",
            "_view_count": null,
            "_view_module": "@jupyter-widgets/base",
            "_view_module_version": "1.2.0",
            "_view_name": "LayoutView",
            "align_content": null,
            "align_items": null,
            "align_self": null,
            "border": null,
            "bottom": null,
            "display": null,
            "flex": null,
            "flex_flow": null,
            "grid_area": null,
            "grid_auto_columns": null,
            "grid_auto_flow": null,
            "grid_auto_rows": null,
            "grid_column": null,
            "grid_gap": null,
            "grid_row": null,
            "grid_template_areas": null,
            "grid_template_columns": null,
            "grid_template_rows": null,
            "height": null,
            "justify_content": null,
            "justify_items": null,
            "left": null,
            "margin": null,
            "max_height": null,
            "max_width": null,
            "min_height": null,
            "min_width": null,
            "object_fit": null,
            "object_position": null,
            "order": null,
            "overflow": null,
            "overflow_x": null,
            "overflow_y": null,
            "padding": null,
            "right": null,
            "top": null,
            "visibility": null,
            "width": null
          }
        },
        "94baef6f39aa4132bb0f09f2d2f4241a": {
          "model_module": "@jupyter-widgets/controls",
          "model_name": "DescriptionStyleModel",
          "model_module_version": "1.5.0",
          "state": {
            "_model_module": "@jupyter-widgets/controls",
            "_model_module_version": "1.5.0",
            "_model_name": "DescriptionStyleModel",
            "_view_count": null,
            "_view_module": "@jupyter-widgets/base",
            "_view_module_version": "1.2.0",
            "_view_name": "StyleView",
            "description_width": ""
          }
        },
        "16b0993673a840048c3263eac31d4a39": {
          "model_module": "@jupyter-widgets/controls",
          "model_name": "HBoxModel",
          "model_module_version": "1.5.0",
          "state": {
            "_dom_classes": [],
            "_model_module": "@jupyter-widgets/controls",
            "_model_module_version": "1.5.0",
            "_model_name": "HBoxModel",
            "_view_count": null,
            "_view_module": "@jupyter-widgets/controls",
            "_view_module_version": "1.5.0",
            "_view_name": "HBoxView",
            "box_style": "",
            "children": [
              "IPY_MODEL_41549d96217c40f3abe75cf8814a3056",
              "IPY_MODEL_1051849d5d644d84b334e9608c2b5d78",
              "IPY_MODEL_3b5b8f2b0b29456b9e99bcee1c29e7b8"
            ],
            "layout": "IPY_MODEL_b29dbabcc1b84e5c8e0567a82b9ca1bb"
          }
        },
        "41549d96217c40f3abe75cf8814a3056": {
          "model_module": "@jupyter-widgets/controls",
          "model_name": "HTMLModel",
          "model_module_version": "1.5.0",
          "state": {
            "_dom_classes": [],
            "_model_module": "@jupyter-widgets/controls",
            "_model_module_version": "1.5.0",
            "_model_name": "HTMLModel",
            "_view_count": null,
            "_view_module": "@jupyter-widgets/controls",
            "_view_module_version": "1.5.0",
            "_view_name": "HTMLView",
            "description": "",
            "description_tooltip": null,
            "layout": "IPY_MODEL_5456f5c2a1be42acad6ed3e1ff9dfce9",
            "placeholder": "​",
            "style": "IPY_MODEL_452c85891143415d88895308d4f175de",
            "value": "generation_config.json: 100%"
          }
        },
        "1051849d5d644d84b334e9608c2b5d78": {
          "model_module": "@jupyter-widgets/controls",
          "model_name": "FloatProgressModel",
          "model_module_version": "1.5.0",
          "state": {
            "_dom_classes": [],
            "_model_module": "@jupyter-widgets/controls",
            "_model_module_version": "1.5.0",
            "_model_name": "FloatProgressModel",
            "_view_count": null,
            "_view_module": "@jupyter-widgets/controls",
            "_view_module_version": "1.5.0",
            "_view_name": "ProgressView",
            "bar_style": "success",
            "description": "",
            "description_tooltip": null,
            "layout": "IPY_MODEL_b333ef077d4c4ff184b8be55b429a3e0",
            "max": 259,
            "min": 0,
            "orientation": "horizontal",
            "style": "IPY_MODEL_c9399c992b2540fe96b874a6a83331d3",
            "value": 259
          }
        },
        "3b5b8f2b0b29456b9e99bcee1c29e7b8": {
          "model_module": "@jupyter-widgets/controls",
          "model_name": "HTMLModel",
          "model_module_version": "1.5.0",
          "state": {
            "_dom_classes": [],
            "_model_module": "@jupyter-widgets/controls",
            "_model_module_version": "1.5.0",
            "_model_name": "HTMLModel",
            "_view_count": null,
            "_view_module": "@jupyter-widgets/controls",
            "_view_module_version": "1.5.0",
            "_view_name": "HTMLView",
            "description": "",
            "description_tooltip": null,
            "layout": "IPY_MODEL_ceef143681e04d08a6b82a455517b778",
            "placeholder": "​",
            "style": "IPY_MODEL_9b892cc46aba40c1bfa63d15f8843c6d",
            "value": " 259/259 [00:00&lt;00:00, 12.8kB/s]"
          }
        },
        "b29dbabcc1b84e5c8e0567a82b9ca1bb": {
          "model_module": "@jupyter-widgets/base",
          "model_name": "LayoutModel",
          "model_module_version": "1.2.0",
          "state": {
            "_model_module": "@jupyter-widgets/base",
            "_model_module_version": "1.2.0",
            "_model_name": "LayoutModel",
            "_view_count": null,
            "_view_module": "@jupyter-widgets/base",
            "_view_module_version": "1.2.0",
            "_view_name": "LayoutView",
            "align_content": null,
            "align_items": null,
            "align_self": null,
            "border": null,
            "bottom": null,
            "display": null,
            "flex": null,
            "flex_flow": null,
            "grid_area": null,
            "grid_auto_columns": null,
            "grid_auto_flow": null,
            "grid_auto_rows": null,
            "grid_column": null,
            "grid_gap": null,
            "grid_row": null,
            "grid_template_areas": null,
            "grid_template_columns": null,
            "grid_template_rows": null,
            "height": null,
            "justify_content": null,
            "justify_items": null,
            "left": null,
            "margin": null,
            "max_height": null,
            "max_width": null,
            "min_height": null,
            "min_width": null,
            "object_fit": null,
            "object_position": null,
            "order": null,
            "overflow": null,
            "overflow_x": null,
            "overflow_y": null,
            "padding": null,
            "right": null,
            "top": null,
            "visibility": null,
            "width": null
          }
        },
        "5456f5c2a1be42acad6ed3e1ff9dfce9": {
          "model_module": "@jupyter-widgets/base",
          "model_name": "LayoutModel",
          "model_module_version": "1.2.0",
          "state": {
            "_model_module": "@jupyter-widgets/base",
            "_model_module_version": "1.2.0",
            "_model_name": "LayoutModel",
            "_view_count": null,
            "_view_module": "@jupyter-widgets/base",
            "_view_module_version": "1.2.0",
            "_view_name": "LayoutView",
            "align_content": null,
            "align_items": null,
            "align_self": null,
            "border": null,
            "bottom": null,
            "display": null,
            "flex": null,
            "flex_flow": null,
            "grid_area": null,
            "grid_auto_columns": null,
            "grid_auto_flow": null,
            "grid_auto_rows": null,
            "grid_column": null,
            "grid_gap": null,
            "grid_row": null,
            "grid_template_areas": null,
            "grid_template_columns": null,
            "grid_template_rows": null,
            "height": null,
            "justify_content": null,
            "justify_items": null,
            "left": null,
            "margin": null,
            "max_height": null,
            "max_width": null,
            "min_height": null,
            "min_width": null,
            "object_fit": null,
            "object_position": null,
            "order": null,
            "overflow": null,
            "overflow_x": null,
            "overflow_y": null,
            "padding": null,
            "right": null,
            "top": null,
            "visibility": null,
            "width": null
          }
        },
        "452c85891143415d88895308d4f175de": {
          "model_module": "@jupyter-widgets/controls",
          "model_name": "DescriptionStyleModel",
          "model_module_version": "1.5.0",
          "state": {
            "_model_module": "@jupyter-widgets/controls",
            "_model_module_version": "1.5.0",
            "_model_name": "DescriptionStyleModel",
            "_view_count": null,
            "_view_module": "@jupyter-widgets/base",
            "_view_module_version": "1.2.0",
            "_view_name": "StyleView",
            "description_width": ""
          }
        },
        "b333ef077d4c4ff184b8be55b429a3e0": {
          "model_module": "@jupyter-widgets/base",
          "model_name": "LayoutModel",
          "model_module_version": "1.2.0",
          "state": {
            "_model_module": "@jupyter-widgets/base",
            "_model_module_version": "1.2.0",
            "_model_name": "LayoutModel",
            "_view_count": null,
            "_view_module": "@jupyter-widgets/base",
            "_view_module_version": "1.2.0",
            "_view_name": "LayoutView",
            "align_content": null,
            "align_items": null,
            "align_self": null,
            "border": null,
            "bottom": null,
            "display": null,
            "flex": null,
            "flex_flow": null,
            "grid_area": null,
            "grid_auto_columns": null,
            "grid_auto_flow": null,
            "grid_auto_rows": null,
            "grid_column": null,
            "grid_gap": null,
            "grid_row": null,
            "grid_template_areas": null,
            "grid_template_columns": null,
            "grid_template_rows": null,
            "height": null,
            "justify_content": null,
            "justify_items": null,
            "left": null,
            "margin": null,
            "max_height": null,
            "max_width": null,
            "min_height": null,
            "min_width": null,
            "object_fit": null,
            "object_position": null,
            "order": null,
            "overflow": null,
            "overflow_x": null,
            "overflow_y": null,
            "padding": null,
            "right": null,
            "top": null,
            "visibility": null,
            "width": null
          }
        },
        "c9399c992b2540fe96b874a6a83331d3": {
          "model_module": "@jupyter-widgets/controls",
          "model_name": "ProgressStyleModel",
          "model_module_version": "1.5.0",
          "state": {
            "_model_module": "@jupyter-widgets/controls",
            "_model_module_version": "1.5.0",
            "_model_name": "ProgressStyleModel",
            "_view_count": null,
            "_view_module": "@jupyter-widgets/base",
            "_view_module_version": "1.2.0",
            "_view_name": "StyleView",
            "bar_color": null,
            "description_width": ""
          }
        },
        "ceef143681e04d08a6b82a455517b778": {
          "model_module": "@jupyter-widgets/base",
          "model_name": "LayoutModel",
          "model_module_version": "1.2.0",
          "state": {
            "_model_module": "@jupyter-widgets/base",
            "_model_module_version": "1.2.0",
            "_model_name": "LayoutModel",
            "_view_count": null,
            "_view_module": "@jupyter-widgets/base",
            "_view_module_version": "1.2.0",
            "_view_name": "LayoutView",
            "align_content": null,
            "align_items": null,
            "align_self": null,
            "border": null,
            "bottom": null,
            "display": null,
            "flex": null,
            "flex_flow": null,
            "grid_area": null,
            "grid_auto_columns": null,
            "grid_auto_flow": null,
            "grid_auto_rows": null,
            "grid_column": null,
            "grid_gap": null,
            "grid_row": null,
            "grid_template_areas": null,
            "grid_template_columns": null,
            "grid_template_rows": null,
            "height": null,
            "justify_content": null,
            "justify_items": null,
            "left": null,
            "margin": null,
            "max_height": null,
            "max_width": null,
            "min_height": null,
            "min_width": null,
            "object_fit": null,
            "object_position": null,
            "order": null,
            "overflow": null,
            "overflow_x": null,
            "overflow_y": null,
            "padding": null,
            "right": null,
            "top": null,
            "visibility": null,
            "width": null
          }
        },
        "9b892cc46aba40c1bfa63d15f8843c6d": {
          "model_module": "@jupyter-widgets/controls",
          "model_name": "DescriptionStyleModel",
          "model_module_version": "1.5.0",
          "state": {
            "_model_module": "@jupyter-widgets/controls",
            "_model_module_version": "1.5.0",
            "_model_name": "DescriptionStyleModel",
            "_view_count": null,
            "_view_module": "@jupyter-widgets/base",
            "_view_module_version": "1.2.0",
            "_view_name": "StyleView",
            "description_width": ""
          }
        },
        "fd201aec8e3e49819cb20344c722a991": {
          "model_module": "@jupyter-widgets/controls",
          "model_name": "HBoxModel",
          "model_module_version": "1.5.0",
          "state": {
            "_dom_classes": [],
            "_model_module": "@jupyter-widgets/controls",
            "_model_module_version": "1.5.0",
            "_model_name": "HBoxModel",
            "_view_count": null,
            "_view_module": "@jupyter-widgets/controls",
            "_view_module_version": "1.5.0",
            "_view_name": "HBoxView",
            "box_style": "",
            "children": [
              "IPY_MODEL_ae6af4f8ec3e49108b6d6241d9028f71",
              "IPY_MODEL_94c4ad97b651444cab08afb195a73f6c",
              "IPY_MODEL_74cce97918694225864c58a67d83dfa7"
            ],
            "layout": "IPY_MODEL_6fd33482965e4e988b164dec4fcfbc7c"
          }
        },
        "ae6af4f8ec3e49108b6d6241d9028f71": {
          "model_module": "@jupyter-widgets/controls",
          "model_name": "HTMLModel",
          "model_module_version": "1.5.0",
          "state": {
            "_dom_classes": [],
            "_model_module": "@jupyter-widgets/controls",
            "_model_module_version": "1.5.0",
            "_model_name": "HTMLModel",
            "_view_count": null,
            "_view_module": "@jupyter-widgets/controls",
            "_view_module_version": "1.5.0",
            "_view_name": "HTMLView",
            "description": "",
            "description_tooltip": null,
            "layout": "IPY_MODEL_4f57a9de66fc4ae295621db4ea67d616",
            "placeholder": "​",
            "style": "IPY_MODEL_888e21257ac74fd8b4d19c6a0c7e7e5b",
            "value": "tokenizer_config.json: 100%"
          }
        },
        "94c4ad97b651444cab08afb195a73f6c": {
          "model_module": "@jupyter-widgets/controls",
          "model_name": "FloatProgressModel",
          "model_module_version": "1.5.0",
          "state": {
            "_dom_classes": [],
            "_model_module": "@jupyter-widgets/controls",
            "_model_module_version": "1.5.0",
            "_model_name": "FloatProgressModel",
            "_view_count": null,
            "_view_module": "@jupyter-widgets/controls",
            "_view_module_version": "1.5.0",
            "_view_name": "ProgressView",
            "bar_style": "success",
            "description": "",
            "description_tooltip": null,
            "layout": "IPY_MODEL_26689c283ca84226a0dc06eca2ca0ba5",
            "max": 87,
            "min": 0,
            "orientation": "horizontal",
            "style": "IPY_MODEL_80a91c160cbb4d08803158ae70b501a9",
            "value": 87
          }
        },
        "74cce97918694225864c58a67d83dfa7": {
          "model_module": "@jupyter-widgets/controls",
          "model_name": "HTMLModel",
          "model_module_version": "1.5.0",
          "state": {
            "_dom_classes": [],
            "_model_module": "@jupyter-widgets/controls",
            "_model_module_version": "1.5.0",
            "_model_name": "HTMLModel",
            "_view_count": null,
            "_view_module": "@jupyter-widgets/controls",
            "_view_module_version": "1.5.0",
            "_view_name": "HTMLView",
            "description": "",
            "description_tooltip": null,
            "layout": "IPY_MODEL_56d2082e95b1476e8dacdad19208b1da",
            "placeholder": "​",
            "style": "IPY_MODEL_ebf72f0c05e141c6903d5dc4ec714e6c",
            "value": " 87.0/87.0 [00:00&lt;00:00, 5.04kB/s]"
          }
        },
        "6fd33482965e4e988b164dec4fcfbc7c": {
          "model_module": "@jupyter-widgets/base",
          "model_name": "LayoutModel",
          "model_module_version": "1.2.0",
          "state": {
            "_model_module": "@jupyter-widgets/base",
            "_model_module_version": "1.2.0",
            "_model_name": "LayoutModel",
            "_view_count": null,
            "_view_module": "@jupyter-widgets/base",
            "_view_module_version": "1.2.0",
            "_view_name": "LayoutView",
            "align_content": null,
            "align_items": null,
            "align_self": null,
            "border": null,
            "bottom": null,
            "display": null,
            "flex": null,
            "flex_flow": null,
            "grid_area": null,
            "grid_auto_columns": null,
            "grid_auto_flow": null,
            "grid_auto_rows": null,
            "grid_column": null,
            "grid_gap": null,
            "grid_row": null,
            "grid_template_areas": null,
            "grid_template_columns": null,
            "grid_template_rows": null,
            "height": null,
            "justify_content": null,
            "justify_items": null,
            "left": null,
            "margin": null,
            "max_height": null,
            "max_width": null,
            "min_height": null,
            "min_width": null,
            "object_fit": null,
            "object_position": null,
            "order": null,
            "overflow": null,
            "overflow_x": null,
            "overflow_y": null,
            "padding": null,
            "right": null,
            "top": null,
            "visibility": null,
            "width": null
          }
        },
        "4f57a9de66fc4ae295621db4ea67d616": {
          "model_module": "@jupyter-widgets/base",
          "model_name": "LayoutModel",
          "model_module_version": "1.2.0",
          "state": {
            "_model_module": "@jupyter-widgets/base",
            "_model_module_version": "1.2.0",
            "_model_name": "LayoutModel",
            "_view_count": null,
            "_view_module": "@jupyter-widgets/base",
            "_view_module_version": "1.2.0",
            "_view_name": "LayoutView",
            "align_content": null,
            "align_items": null,
            "align_self": null,
            "border": null,
            "bottom": null,
            "display": null,
            "flex": null,
            "flex_flow": null,
            "grid_area": null,
            "grid_auto_columns": null,
            "grid_auto_flow": null,
            "grid_auto_rows": null,
            "grid_column": null,
            "grid_gap": null,
            "grid_row": null,
            "grid_template_areas": null,
            "grid_template_columns": null,
            "grid_template_rows": null,
            "height": null,
            "justify_content": null,
            "justify_items": null,
            "left": null,
            "margin": null,
            "max_height": null,
            "max_width": null,
            "min_height": null,
            "min_width": null,
            "object_fit": null,
            "object_position": null,
            "order": null,
            "overflow": null,
            "overflow_x": null,
            "overflow_y": null,
            "padding": null,
            "right": null,
            "top": null,
            "visibility": null,
            "width": null
          }
        },
        "888e21257ac74fd8b4d19c6a0c7e7e5b": {
          "model_module": "@jupyter-widgets/controls",
          "model_name": "DescriptionStyleModel",
          "model_module_version": "1.5.0",
          "state": {
            "_model_module": "@jupyter-widgets/controls",
            "_model_module_version": "1.5.0",
            "_model_name": "DescriptionStyleModel",
            "_view_count": null,
            "_view_module": "@jupyter-widgets/base",
            "_view_module_version": "1.2.0",
            "_view_name": "StyleView",
            "description_width": ""
          }
        },
        "26689c283ca84226a0dc06eca2ca0ba5": {
          "model_module": "@jupyter-widgets/base",
          "model_name": "LayoutModel",
          "model_module_version": "1.2.0",
          "state": {
            "_model_module": "@jupyter-widgets/base",
            "_model_module_version": "1.2.0",
            "_model_name": "LayoutModel",
            "_view_count": null,
            "_view_module": "@jupyter-widgets/base",
            "_view_module_version": "1.2.0",
            "_view_name": "LayoutView",
            "align_content": null,
            "align_items": null,
            "align_self": null,
            "border": null,
            "bottom": null,
            "display": null,
            "flex": null,
            "flex_flow": null,
            "grid_area": null,
            "grid_auto_columns": null,
            "grid_auto_flow": null,
            "grid_auto_rows": null,
            "grid_column": null,
            "grid_gap": null,
            "grid_row": null,
            "grid_template_areas": null,
            "grid_template_columns": null,
            "grid_template_rows": null,
            "height": null,
            "justify_content": null,
            "justify_items": null,
            "left": null,
            "margin": null,
            "max_height": null,
            "max_width": null,
            "min_height": null,
            "min_width": null,
            "object_fit": null,
            "object_position": null,
            "order": null,
            "overflow": null,
            "overflow_x": null,
            "overflow_y": null,
            "padding": null,
            "right": null,
            "top": null,
            "visibility": null,
            "width": null
          }
        },
        "80a91c160cbb4d08803158ae70b501a9": {
          "model_module": "@jupyter-widgets/controls",
          "model_name": "ProgressStyleModel",
          "model_module_version": "1.5.0",
          "state": {
            "_model_module": "@jupyter-widgets/controls",
            "_model_module_version": "1.5.0",
            "_model_name": "ProgressStyleModel",
            "_view_count": null,
            "_view_module": "@jupyter-widgets/base",
            "_view_module_version": "1.2.0",
            "_view_name": "StyleView",
            "bar_color": null,
            "description_width": ""
          }
        },
        "56d2082e95b1476e8dacdad19208b1da": {
          "model_module": "@jupyter-widgets/base",
          "model_name": "LayoutModel",
          "model_module_version": "1.2.0",
          "state": {
            "_model_module": "@jupyter-widgets/base",
            "_model_module_version": "1.2.0",
            "_model_name": "LayoutModel",
            "_view_count": null,
            "_view_module": "@jupyter-widgets/base",
            "_view_module_version": "1.2.0",
            "_view_name": "LayoutView",
            "align_content": null,
            "align_items": null,
            "align_self": null,
            "border": null,
            "bottom": null,
            "display": null,
            "flex": null,
            "flex_flow": null,
            "grid_area": null,
            "grid_auto_columns": null,
            "grid_auto_flow": null,
            "grid_auto_rows": null,
            "grid_column": null,
            "grid_gap": null,
            "grid_row": null,
            "grid_template_areas": null,
            "grid_template_columns": null,
            "grid_template_rows": null,
            "height": null,
            "justify_content": null,
            "justify_items": null,
            "left": null,
            "margin": null,
            "max_height": null,
            "max_width": null,
            "min_height": null,
            "min_width": null,
            "object_fit": null,
            "object_position": null,
            "order": null,
            "overflow": null,
            "overflow_x": null,
            "overflow_y": null,
            "padding": null,
            "right": null,
            "top": null,
            "visibility": null,
            "width": null
          }
        },
        "ebf72f0c05e141c6903d5dc4ec714e6c": {
          "model_module": "@jupyter-widgets/controls",
          "model_name": "DescriptionStyleModel",
          "model_module_version": "1.5.0",
          "state": {
            "_model_module": "@jupyter-widgets/controls",
            "_model_module_version": "1.5.0",
            "_model_name": "DescriptionStyleModel",
            "_view_count": null,
            "_view_module": "@jupyter-widgets/base",
            "_view_module_version": "1.2.0",
            "_view_name": "StyleView",
            "description_width": ""
          }
        },
        "c800ecaae5ed4706a6180496f6e3a5d7": {
          "model_module": "@jupyter-widgets/controls",
          "model_name": "HBoxModel",
          "model_module_version": "1.5.0",
          "state": {
            "_dom_classes": [],
            "_model_module": "@jupyter-widgets/controls",
            "_model_module_version": "1.5.0",
            "_model_name": "HBoxModel",
            "_view_count": null,
            "_view_module": "@jupyter-widgets/controls",
            "_view_module_version": "1.5.0",
            "_view_name": "HBoxView",
            "box_style": "",
            "children": [
              "IPY_MODEL_8e542276a0f943528f1ee4433cb5d3be",
              "IPY_MODEL_eff8d3e007354432869a551744996f1f",
              "IPY_MODEL_de70b3d6cd464cb3a9e13d88f0a40c8d"
            ],
            "layout": "IPY_MODEL_08129f087135497185a07b84f2e91d3e"
          }
        },
        "8e542276a0f943528f1ee4433cb5d3be": {
          "model_module": "@jupyter-widgets/controls",
          "model_name": "HTMLModel",
          "model_module_version": "1.5.0",
          "state": {
            "_dom_classes": [],
            "_model_module": "@jupyter-widgets/controls",
            "_model_module_version": "1.5.0",
            "_model_name": "HTMLModel",
            "_view_count": null,
            "_view_module": "@jupyter-widgets/controls",
            "_view_module_version": "1.5.0",
            "_view_name": "HTMLView",
            "description": "",
            "description_tooltip": null,
            "layout": "IPY_MODEL_5710fa39634a4dc89fb28ed048b1fa3e",
            "placeholder": "​",
            "style": "IPY_MODEL_3debaef0dfc14c93bea103a5386ee625",
            "value": "spiece.model: 100%"
          }
        },
        "eff8d3e007354432869a551744996f1f": {
          "model_module": "@jupyter-widgets/controls",
          "model_name": "FloatProgressModel",
          "model_module_version": "1.5.0",
          "state": {
            "_dom_classes": [],
            "_model_module": "@jupyter-widgets/controls",
            "_model_module_version": "1.5.0",
            "_model_name": "FloatProgressModel",
            "_view_count": null,
            "_view_module": "@jupyter-widgets/controls",
            "_view_module_version": "1.5.0",
            "_view_name": "ProgressView",
            "bar_style": "success",
            "description": "",
            "description_tooltip": null,
            "layout": "IPY_MODEL_f5b147df9f1c4814b644e5087ccebbb4",
            "max": 1912529,
            "min": 0,
            "orientation": "horizontal",
            "style": "IPY_MODEL_48d0f1ac46e4462798f481de2d048b17",
            "value": 1912529
          }
        },
        "de70b3d6cd464cb3a9e13d88f0a40c8d": {
          "model_module": "@jupyter-widgets/controls",
          "model_name": "HTMLModel",
          "model_module_version": "1.5.0",
          "state": {
            "_dom_classes": [],
            "_model_module": "@jupyter-widgets/controls",
            "_model_module_version": "1.5.0",
            "_model_name": "HTMLModel",
            "_view_count": null,
            "_view_module": "@jupyter-widgets/controls",
            "_view_module_version": "1.5.0",
            "_view_name": "HTMLView",
            "description": "",
            "description_tooltip": null,
            "layout": "IPY_MODEL_6897c024b258462c80808b863770603b",
            "placeholder": "​",
            "style": "IPY_MODEL_92184f0df02c440fb81e950b71ed2303",
            "value": " 1.91M/1.91M [00:00&lt;00:00, 32.6MB/s]"
          }
        },
        "08129f087135497185a07b84f2e91d3e": {
          "model_module": "@jupyter-widgets/base",
          "model_name": "LayoutModel",
          "model_module_version": "1.2.0",
          "state": {
            "_model_module": "@jupyter-widgets/base",
            "_model_module_version": "1.2.0",
            "_model_name": "LayoutModel",
            "_view_count": null,
            "_view_module": "@jupyter-widgets/base",
            "_view_module_version": "1.2.0",
            "_view_name": "LayoutView",
            "align_content": null,
            "align_items": null,
            "align_self": null,
            "border": null,
            "bottom": null,
            "display": null,
            "flex": null,
            "flex_flow": null,
            "grid_area": null,
            "grid_auto_columns": null,
            "grid_auto_flow": null,
            "grid_auto_rows": null,
            "grid_column": null,
            "grid_gap": null,
            "grid_row": null,
            "grid_template_areas": null,
            "grid_template_columns": null,
            "grid_template_rows": null,
            "height": null,
            "justify_content": null,
            "justify_items": null,
            "left": null,
            "margin": null,
            "max_height": null,
            "max_width": null,
            "min_height": null,
            "min_width": null,
            "object_fit": null,
            "object_position": null,
            "order": null,
            "overflow": null,
            "overflow_x": null,
            "overflow_y": null,
            "padding": null,
            "right": null,
            "top": null,
            "visibility": null,
            "width": null
          }
        },
        "5710fa39634a4dc89fb28ed048b1fa3e": {
          "model_module": "@jupyter-widgets/base",
          "model_name": "LayoutModel",
          "model_module_version": "1.2.0",
          "state": {
            "_model_module": "@jupyter-widgets/base",
            "_model_module_version": "1.2.0",
            "_model_name": "LayoutModel",
            "_view_count": null,
            "_view_module": "@jupyter-widgets/base",
            "_view_module_version": "1.2.0",
            "_view_name": "LayoutView",
            "align_content": null,
            "align_items": null,
            "align_self": null,
            "border": null,
            "bottom": null,
            "display": null,
            "flex": null,
            "flex_flow": null,
            "grid_area": null,
            "grid_auto_columns": null,
            "grid_auto_flow": null,
            "grid_auto_rows": null,
            "grid_column": null,
            "grid_gap": null,
            "grid_row": null,
            "grid_template_areas": null,
            "grid_template_columns": null,
            "grid_template_rows": null,
            "height": null,
            "justify_content": null,
            "justify_items": null,
            "left": null,
            "margin": null,
            "max_height": null,
            "max_width": null,
            "min_height": null,
            "min_width": null,
            "object_fit": null,
            "object_position": null,
            "order": null,
            "overflow": null,
            "overflow_x": null,
            "overflow_y": null,
            "padding": null,
            "right": null,
            "top": null,
            "visibility": null,
            "width": null
          }
        },
        "3debaef0dfc14c93bea103a5386ee625": {
          "model_module": "@jupyter-widgets/controls",
          "model_name": "DescriptionStyleModel",
          "model_module_version": "1.5.0",
          "state": {
            "_model_module": "@jupyter-widgets/controls",
            "_model_module_version": "1.5.0",
            "_model_name": "DescriptionStyleModel",
            "_view_count": null,
            "_view_module": "@jupyter-widgets/base",
            "_view_module_version": "1.2.0",
            "_view_name": "StyleView",
            "description_width": ""
          }
        },
        "f5b147df9f1c4814b644e5087ccebbb4": {
          "model_module": "@jupyter-widgets/base",
          "model_name": "LayoutModel",
          "model_module_version": "1.2.0",
          "state": {
            "_model_module": "@jupyter-widgets/base",
            "_model_module_version": "1.2.0",
            "_model_name": "LayoutModel",
            "_view_count": null,
            "_view_module": "@jupyter-widgets/base",
            "_view_module_version": "1.2.0",
            "_view_name": "LayoutView",
            "align_content": null,
            "align_items": null,
            "align_self": null,
            "border": null,
            "bottom": null,
            "display": null,
            "flex": null,
            "flex_flow": null,
            "grid_area": null,
            "grid_auto_columns": null,
            "grid_auto_flow": null,
            "grid_auto_rows": null,
            "grid_column": null,
            "grid_gap": null,
            "grid_row": null,
            "grid_template_areas": null,
            "grid_template_columns": null,
            "grid_template_rows": null,
            "height": null,
            "justify_content": null,
            "justify_items": null,
            "left": null,
            "margin": null,
            "max_height": null,
            "max_width": null,
            "min_height": null,
            "min_width": null,
            "object_fit": null,
            "object_position": null,
            "order": null,
            "overflow": null,
            "overflow_x": null,
            "overflow_y": null,
            "padding": null,
            "right": null,
            "top": null,
            "visibility": null,
            "width": null
          }
        },
        "48d0f1ac46e4462798f481de2d048b17": {
          "model_module": "@jupyter-widgets/controls",
          "model_name": "ProgressStyleModel",
          "model_module_version": "1.5.0",
          "state": {
            "_model_module": "@jupyter-widgets/controls",
            "_model_module_version": "1.5.0",
            "_model_name": "ProgressStyleModel",
            "_view_count": null,
            "_view_module": "@jupyter-widgets/base",
            "_view_module_version": "1.2.0",
            "_view_name": "StyleView",
            "bar_color": null,
            "description_width": ""
          }
        },
        "6897c024b258462c80808b863770603b": {
          "model_module": "@jupyter-widgets/base",
          "model_name": "LayoutModel",
          "model_module_version": "1.2.0",
          "state": {
            "_model_module": "@jupyter-widgets/base",
            "_model_module_version": "1.2.0",
            "_model_name": "LayoutModel",
            "_view_count": null,
            "_view_module": "@jupyter-widgets/base",
            "_view_module_version": "1.2.0",
            "_view_name": "LayoutView",
            "align_content": null,
            "align_items": null,
            "align_self": null,
            "border": null,
            "bottom": null,
            "display": null,
            "flex": null,
            "flex_flow": null,
            "grid_area": null,
            "grid_auto_columns": null,
            "grid_auto_flow": null,
            "grid_auto_rows": null,
            "grid_column": null,
            "grid_gap": null,
            "grid_row": null,
            "grid_template_areas": null,
            "grid_template_columns": null,
            "grid_template_rows": null,
            "height": null,
            "justify_content": null,
            "justify_items": null,
            "left": null,
            "margin": null,
            "max_height": null,
            "max_width": null,
            "min_height": null,
            "min_width": null,
            "object_fit": null,
            "object_position": null,
            "order": null,
            "overflow": null,
            "overflow_x": null,
            "overflow_y": null,
            "padding": null,
            "right": null,
            "top": null,
            "visibility": null,
            "width": null
          }
        },
        "92184f0df02c440fb81e950b71ed2303": {
          "model_module": "@jupyter-widgets/controls",
          "model_name": "DescriptionStyleModel",
          "model_module_version": "1.5.0",
          "state": {
            "_model_module": "@jupyter-widgets/controls",
            "_model_module_version": "1.5.0",
            "_model_name": "DescriptionStyleModel",
            "_view_count": null,
            "_view_module": "@jupyter-widgets/base",
            "_view_module_version": "1.2.0",
            "_view_name": "StyleView",
            "description_width": ""
          }
        },
        "23b76cebce3a4c9ca3ee9bf799748c07": {
          "model_module": "@jupyter-widgets/controls",
          "model_name": "HBoxModel",
          "model_module_version": "1.5.0",
          "state": {
            "_dom_classes": [],
            "_model_module": "@jupyter-widgets/controls",
            "_model_module_version": "1.5.0",
            "_model_name": "HBoxModel",
            "_view_count": null,
            "_view_module": "@jupyter-widgets/controls",
            "_view_module_version": "1.5.0",
            "_view_name": "HBoxView",
            "box_style": "",
            "children": [
              "IPY_MODEL_4cbc241d17df4267bcadacfd8cbd2727",
              "IPY_MODEL_f7a574eef0ea48d48827847144e355df",
              "IPY_MODEL_31c52dca30d944f49129ec2386c72d13"
            ],
            "layout": "IPY_MODEL_984995dd69744deaa7d63adfa5dcead8"
          }
        },
        "4cbc241d17df4267bcadacfd8cbd2727": {
          "model_module": "@jupyter-widgets/controls",
          "model_name": "HTMLModel",
          "model_module_version": "1.5.0",
          "state": {
            "_dom_classes": [],
            "_model_module": "@jupyter-widgets/controls",
            "_model_module_version": "1.5.0",
            "_model_name": "HTMLModel",
            "_view_count": null,
            "_view_module": "@jupyter-widgets/controls",
            "_view_module_version": "1.5.0",
            "_view_name": "HTMLView",
            "description": "",
            "description_tooltip": null,
            "layout": "IPY_MODEL_46f265bdf4e245d3b45e4378ecf3bd20",
            "placeholder": "​",
            "style": "IPY_MODEL_f8fbae65be9948d6a20b3988441a42bc",
            "value": "tokenizer.json: 100%"
          }
        },
        "f7a574eef0ea48d48827847144e355df": {
          "model_module": "@jupyter-widgets/controls",
          "model_name": "FloatProgressModel",
          "model_module_version": "1.5.0",
          "state": {
            "_dom_classes": [],
            "_model_module": "@jupyter-widgets/controls",
            "_model_module_version": "1.5.0",
            "_model_name": "FloatProgressModel",
            "_view_count": null,
            "_view_module": "@jupyter-widgets/controls",
            "_view_module_version": "1.5.0",
            "_view_name": "ProgressView",
            "bar_style": "success",
            "description": "",
            "description_tooltip": null,
            "layout": "IPY_MODEL_439493d2abde4ca49f8c01ee4d1ee7f9",
            "max": 3520083,
            "min": 0,
            "orientation": "horizontal",
            "style": "IPY_MODEL_cca99af7c9f441808f4804496b8ade53",
            "value": 3520083
          }
        },
        "31c52dca30d944f49129ec2386c72d13": {
          "model_module": "@jupyter-widgets/controls",
          "model_name": "HTMLModel",
          "model_module_version": "1.5.0",
          "state": {
            "_dom_classes": [],
            "_model_module": "@jupyter-widgets/controls",
            "_model_module_version": "1.5.0",
            "_model_name": "HTMLModel",
            "_view_count": null,
            "_view_module": "@jupyter-widgets/controls",
            "_view_module_version": "1.5.0",
            "_view_name": "HTMLView",
            "description": "",
            "description_tooltip": null,
            "layout": "IPY_MODEL_dffb6ab288e944748570ce02e55b222a",
            "placeholder": "​",
            "style": "IPY_MODEL_e7a55b0294e54a0094c829782d2d7ddb",
            "value": " 3.52M/3.52M [00:00&lt;00:00, 24.9MB/s]"
          }
        },
        "984995dd69744deaa7d63adfa5dcead8": {
          "model_module": "@jupyter-widgets/base",
          "model_name": "LayoutModel",
          "model_module_version": "1.2.0",
          "state": {
            "_model_module": "@jupyter-widgets/base",
            "_model_module_version": "1.2.0",
            "_model_name": "LayoutModel",
            "_view_count": null,
            "_view_module": "@jupyter-widgets/base",
            "_view_module_version": "1.2.0",
            "_view_name": "LayoutView",
            "align_content": null,
            "align_items": null,
            "align_self": null,
            "border": null,
            "bottom": null,
            "display": null,
            "flex": null,
            "flex_flow": null,
            "grid_area": null,
            "grid_auto_columns": null,
            "grid_auto_flow": null,
            "grid_auto_rows": null,
            "grid_column": null,
            "grid_gap": null,
            "grid_row": null,
            "grid_template_areas": null,
            "grid_template_columns": null,
            "grid_template_rows": null,
            "height": null,
            "justify_content": null,
            "justify_items": null,
            "left": null,
            "margin": null,
            "max_height": null,
            "max_width": null,
            "min_height": null,
            "min_width": null,
            "object_fit": null,
            "object_position": null,
            "order": null,
            "overflow": null,
            "overflow_x": null,
            "overflow_y": null,
            "padding": null,
            "right": null,
            "top": null,
            "visibility": null,
            "width": null
          }
        },
        "46f265bdf4e245d3b45e4378ecf3bd20": {
          "model_module": "@jupyter-widgets/base",
          "model_name": "LayoutModel",
          "model_module_version": "1.2.0",
          "state": {
            "_model_module": "@jupyter-widgets/base",
            "_model_module_version": "1.2.0",
            "_model_name": "LayoutModel",
            "_view_count": null,
            "_view_module": "@jupyter-widgets/base",
            "_view_module_version": "1.2.0",
            "_view_name": "LayoutView",
            "align_content": null,
            "align_items": null,
            "align_self": null,
            "border": null,
            "bottom": null,
            "display": null,
            "flex": null,
            "flex_flow": null,
            "grid_area": null,
            "grid_auto_columns": null,
            "grid_auto_flow": null,
            "grid_auto_rows": null,
            "grid_column": null,
            "grid_gap": null,
            "grid_row": null,
            "grid_template_areas": null,
            "grid_template_columns": null,
            "grid_template_rows": null,
            "height": null,
            "justify_content": null,
            "justify_items": null,
            "left": null,
            "margin": null,
            "max_height": null,
            "max_width": null,
            "min_height": null,
            "min_width": null,
            "object_fit": null,
            "object_position": null,
            "order": null,
            "overflow": null,
            "overflow_x": null,
            "overflow_y": null,
            "padding": null,
            "right": null,
            "top": null,
            "visibility": null,
            "width": null
          }
        },
        "f8fbae65be9948d6a20b3988441a42bc": {
          "model_module": "@jupyter-widgets/controls",
          "model_name": "DescriptionStyleModel",
          "model_module_version": "1.5.0",
          "state": {
            "_model_module": "@jupyter-widgets/controls",
            "_model_module_version": "1.5.0",
            "_model_name": "DescriptionStyleModel",
            "_view_count": null,
            "_view_module": "@jupyter-widgets/base",
            "_view_module_version": "1.2.0",
            "_view_name": "StyleView",
            "description_width": ""
          }
        },
        "439493d2abde4ca49f8c01ee4d1ee7f9": {
          "model_module": "@jupyter-widgets/base",
          "model_name": "LayoutModel",
          "model_module_version": "1.2.0",
          "state": {
            "_model_module": "@jupyter-widgets/base",
            "_model_module_version": "1.2.0",
            "_model_name": "LayoutModel",
            "_view_count": null,
            "_view_module": "@jupyter-widgets/base",
            "_view_module_version": "1.2.0",
            "_view_name": "LayoutView",
            "align_content": null,
            "align_items": null,
            "align_self": null,
            "border": null,
            "bottom": null,
            "display": null,
            "flex": null,
            "flex_flow": null,
            "grid_area": null,
            "grid_auto_columns": null,
            "grid_auto_flow": null,
            "grid_auto_rows": null,
            "grid_column": null,
            "grid_gap": null,
            "grid_row": null,
            "grid_template_areas": null,
            "grid_template_columns": null,
            "grid_template_rows": null,
            "height": null,
            "justify_content": null,
            "justify_items": null,
            "left": null,
            "margin": null,
            "max_height": null,
            "max_width": null,
            "min_height": null,
            "min_width": null,
            "object_fit": null,
            "object_position": null,
            "order": null,
            "overflow": null,
            "overflow_x": null,
            "overflow_y": null,
            "padding": null,
            "right": null,
            "top": null,
            "visibility": null,
            "width": null
          }
        },
        "cca99af7c9f441808f4804496b8ade53": {
          "model_module": "@jupyter-widgets/controls",
          "model_name": "ProgressStyleModel",
          "model_module_version": "1.5.0",
          "state": {
            "_model_module": "@jupyter-widgets/controls",
            "_model_module_version": "1.5.0",
            "_model_name": "ProgressStyleModel",
            "_view_count": null,
            "_view_module": "@jupyter-widgets/base",
            "_view_module_version": "1.2.0",
            "_view_name": "StyleView",
            "bar_color": null,
            "description_width": ""
          }
        },
        "dffb6ab288e944748570ce02e55b222a": {
          "model_module": "@jupyter-widgets/base",
          "model_name": "LayoutModel",
          "model_module_version": "1.2.0",
          "state": {
            "_model_module": "@jupyter-widgets/base",
            "_model_module_version": "1.2.0",
            "_model_name": "LayoutModel",
            "_view_count": null,
            "_view_module": "@jupyter-widgets/base",
            "_view_module_version": "1.2.0",
            "_view_name": "LayoutView",
            "align_content": null,
            "align_items": null,
            "align_self": null,
            "border": null,
            "bottom": null,
            "display": null,
            "flex": null,
            "flex_flow": null,
            "grid_area": null,
            "grid_auto_columns": null,
            "grid_auto_flow": null,
            "grid_auto_rows": null,
            "grid_column": null,
            "grid_gap": null,
            "grid_row": null,
            "grid_template_areas": null,
            "grid_template_columns": null,
            "grid_template_rows": null,
            "height": null,
            "justify_content": null,
            "justify_items": null,
            "left": null,
            "margin": null,
            "max_height": null,
            "max_width": null,
            "min_height": null,
            "min_width": null,
            "object_fit": null,
            "object_position": null,
            "order": null,
            "overflow": null,
            "overflow_x": null,
            "overflow_y": null,
            "padding": null,
            "right": null,
            "top": null,
            "visibility": null,
            "width": null
          }
        },
        "e7a55b0294e54a0094c829782d2d7ddb": {
          "model_module": "@jupyter-widgets/controls",
          "model_name": "DescriptionStyleModel",
          "model_module_version": "1.5.0",
          "state": {
            "_model_module": "@jupyter-widgets/controls",
            "_model_module_version": "1.5.0",
            "_model_name": "DescriptionStyleModel",
            "_view_count": null,
            "_view_module": "@jupyter-widgets/base",
            "_view_module_version": "1.2.0",
            "_view_name": "StyleView",
            "description_width": ""
          }
        },
        "2314f89aa3a94d4d9bcc5296b6d9d3e8": {
          "model_module": "@jupyter-widgets/controls",
          "model_name": "HBoxModel",
          "model_module_version": "1.5.0",
          "state": {
            "_dom_classes": [],
            "_model_module": "@jupyter-widgets/controls",
            "_model_module_version": "1.5.0",
            "_model_name": "HBoxModel",
            "_view_count": null,
            "_view_module": "@jupyter-widgets/controls",
            "_view_module_version": "1.5.0",
            "_view_name": "HBoxView",
            "box_style": "",
            "children": [
              "IPY_MODEL_232698eeef2b402888272f2ce0252369",
              "IPY_MODEL_5187afca895849828eaa4b0bce959784",
              "IPY_MODEL_d2a0f378370d40f7b1c65d06b1da3954"
            ],
            "layout": "IPY_MODEL_4ee9507ea3e540eb9e4d0243f5efe611"
          }
        },
        "232698eeef2b402888272f2ce0252369": {
          "model_module": "@jupyter-widgets/controls",
          "model_name": "HTMLModel",
          "model_module_version": "1.5.0",
          "state": {
            "_dom_classes": [],
            "_model_module": "@jupyter-widgets/controls",
            "_model_module_version": "1.5.0",
            "_model_name": "HTMLModel",
            "_view_count": null,
            "_view_module": "@jupyter-widgets/controls",
            "_view_module_version": "1.5.0",
            "_view_name": "HTMLView",
            "description": "",
            "description_tooltip": null,
            "layout": "IPY_MODEL_539699062a6149e6a2d37cd09b5b0ca4",
            "placeholder": "​",
            "style": "IPY_MODEL_1a20dcb9e1b04963a0c88b606f571607",
            "value": "special_tokens_map.json: 100%"
          }
        },
        "5187afca895849828eaa4b0bce959784": {
          "model_module": "@jupyter-widgets/controls",
          "model_name": "FloatProgressModel",
          "model_module_version": "1.5.0",
          "state": {
            "_dom_classes": [],
            "_model_module": "@jupyter-widgets/controls",
            "_model_module_version": "1.5.0",
            "_model_name": "FloatProgressModel",
            "_view_count": null,
            "_view_module": "@jupyter-widgets/controls",
            "_view_module_version": "1.5.0",
            "_view_name": "ProgressView",
            "bar_style": "success",
            "description": "",
            "description_tooltip": null,
            "layout": "IPY_MODEL_e04b077126094baaadc381b83733c721",
            "max": 65,
            "min": 0,
            "orientation": "horizontal",
            "style": "IPY_MODEL_4bee4d54a44042a89197f1d5a6965a4b",
            "value": 65
          }
        },
        "d2a0f378370d40f7b1c65d06b1da3954": {
          "model_module": "@jupyter-widgets/controls",
          "model_name": "HTMLModel",
          "model_module_version": "1.5.0",
          "state": {
            "_dom_classes": [],
            "_model_module": "@jupyter-widgets/controls",
            "_model_module_version": "1.5.0",
            "_model_name": "HTMLModel",
            "_view_count": null,
            "_view_module": "@jupyter-widgets/controls",
            "_view_module_version": "1.5.0",
            "_view_name": "HTMLView",
            "description": "",
            "description_tooltip": null,
            "layout": "IPY_MODEL_573354e56fd74b3a94441ebc085faada",
            "placeholder": "​",
            "style": "IPY_MODEL_1446e8ae32c843f79d3505ca1368dce2",
            "value": " 65.0/65.0 [00:00&lt;00:00, 2.31kB/s]"
          }
        },
        "4ee9507ea3e540eb9e4d0243f5efe611": {
          "model_module": "@jupyter-widgets/base",
          "model_name": "LayoutModel",
          "model_module_version": "1.2.0",
          "state": {
            "_model_module": "@jupyter-widgets/base",
            "_model_module_version": "1.2.0",
            "_model_name": "LayoutModel",
            "_view_count": null,
            "_view_module": "@jupyter-widgets/base",
            "_view_module_version": "1.2.0",
            "_view_name": "LayoutView",
            "align_content": null,
            "align_items": null,
            "align_self": null,
            "border": null,
            "bottom": null,
            "display": null,
            "flex": null,
            "flex_flow": null,
            "grid_area": null,
            "grid_auto_columns": null,
            "grid_auto_flow": null,
            "grid_auto_rows": null,
            "grid_column": null,
            "grid_gap": null,
            "grid_row": null,
            "grid_template_areas": null,
            "grid_template_columns": null,
            "grid_template_rows": null,
            "height": null,
            "justify_content": null,
            "justify_items": null,
            "left": null,
            "margin": null,
            "max_height": null,
            "max_width": null,
            "min_height": null,
            "min_width": null,
            "object_fit": null,
            "object_position": null,
            "order": null,
            "overflow": null,
            "overflow_x": null,
            "overflow_y": null,
            "padding": null,
            "right": null,
            "top": null,
            "visibility": null,
            "width": null
          }
        },
        "539699062a6149e6a2d37cd09b5b0ca4": {
          "model_module": "@jupyter-widgets/base",
          "model_name": "LayoutModel",
          "model_module_version": "1.2.0",
          "state": {
            "_model_module": "@jupyter-widgets/base",
            "_model_module_version": "1.2.0",
            "_model_name": "LayoutModel",
            "_view_count": null,
            "_view_module": "@jupyter-widgets/base",
            "_view_module_version": "1.2.0",
            "_view_name": "LayoutView",
            "align_content": null,
            "align_items": null,
            "align_self": null,
            "border": null,
            "bottom": null,
            "display": null,
            "flex": null,
            "flex_flow": null,
            "grid_area": null,
            "grid_auto_columns": null,
            "grid_auto_flow": null,
            "grid_auto_rows": null,
            "grid_column": null,
            "grid_gap": null,
            "grid_row": null,
            "grid_template_areas": null,
            "grid_template_columns": null,
            "grid_template_rows": null,
            "height": null,
            "justify_content": null,
            "justify_items": null,
            "left": null,
            "margin": null,
            "max_height": null,
            "max_width": null,
            "min_height": null,
            "min_width": null,
            "object_fit": null,
            "object_position": null,
            "order": null,
            "overflow": null,
            "overflow_x": null,
            "overflow_y": null,
            "padding": null,
            "right": null,
            "top": null,
            "visibility": null,
            "width": null
          }
        },
        "1a20dcb9e1b04963a0c88b606f571607": {
          "model_module": "@jupyter-widgets/controls",
          "model_name": "DescriptionStyleModel",
          "model_module_version": "1.5.0",
          "state": {
            "_model_module": "@jupyter-widgets/controls",
            "_model_module_version": "1.5.0",
            "_model_name": "DescriptionStyleModel",
            "_view_count": null,
            "_view_module": "@jupyter-widgets/base",
            "_view_module_version": "1.2.0",
            "_view_name": "StyleView",
            "description_width": ""
          }
        },
        "e04b077126094baaadc381b83733c721": {
          "model_module": "@jupyter-widgets/base",
          "model_name": "LayoutModel",
          "model_module_version": "1.2.0",
          "state": {
            "_model_module": "@jupyter-widgets/base",
            "_model_module_version": "1.2.0",
            "_model_name": "LayoutModel",
            "_view_count": null,
            "_view_module": "@jupyter-widgets/base",
            "_view_module_version": "1.2.0",
            "_view_name": "LayoutView",
            "align_content": null,
            "align_items": null,
            "align_self": null,
            "border": null,
            "bottom": null,
            "display": null,
            "flex": null,
            "flex_flow": null,
            "grid_area": null,
            "grid_auto_columns": null,
            "grid_auto_flow": null,
            "grid_auto_rows": null,
            "grid_column": null,
            "grid_gap": null,
            "grid_row": null,
            "grid_template_areas": null,
            "grid_template_columns": null,
            "grid_template_rows": null,
            "height": null,
            "justify_content": null,
            "justify_items": null,
            "left": null,
            "margin": null,
            "max_height": null,
            "max_width": null,
            "min_height": null,
            "min_width": null,
            "object_fit": null,
            "object_position": null,
            "order": null,
            "overflow": null,
            "overflow_x": null,
            "overflow_y": null,
            "padding": null,
            "right": null,
            "top": null,
            "visibility": null,
            "width": null
          }
        },
        "4bee4d54a44042a89197f1d5a6965a4b": {
          "model_module": "@jupyter-widgets/controls",
          "model_name": "ProgressStyleModel",
          "model_module_version": "1.5.0",
          "state": {
            "_model_module": "@jupyter-widgets/controls",
            "_model_module_version": "1.5.0",
            "_model_name": "ProgressStyleModel",
            "_view_count": null,
            "_view_module": "@jupyter-widgets/base",
            "_view_module_version": "1.2.0",
            "_view_name": "StyleView",
            "bar_color": null,
            "description_width": ""
          }
        },
        "573354e56fd74b3a94441ebc085faada": {
          "model_module": "@jupyter-widgets/base",
          "model_name": "LayoutModel",
          "model_module_version": "1.2.0",
          "state": {
            "_model_module": "@jupyter-widgets/base",
            "_model_module_version": "1.2.0",
            "_model_name": "LayoutModel",
            "_view_count": null,
            "_view_module": "@jupyter-widgets/base",
            "_view_module_version": "1.2.0",
            "_view_name": "LayoutView",
            "align_content": null,
            "align_items": null,
            "align_self": null,
            "border": null,
            "bottom": null,
            "display": null,
            "flex": null,
            "flex_flow": null,
            "grid_area": null,
            "grid_auto_columns": null,
            "grid_auto_flow": null,
            "grid_auto_rows": null,
            "grid_column": null,
            "grid_gap": null,
            "grid_row": null,
            "grid_template_areas": null,
            "grid_template_columns": null,
            "grid_template_rows": null,
            "height": null,
            "justify_content": null,
            "justify_items": null,
            "left": null,
            "margin": null,
            "max_height": null,
            "max_width": null,
            "min_height": null,
            "min_width": null,
            "object_fit": null,
            "object_position": null,
            "order": null,
            "overflow": null,
            "overflow_x": null,
            "overflow_y": null,
            "padding": null,
            "right": null,
            "top": null,
            "visibility": null,
            "width": null
          }
        },
        "1446e8ae32c843f79d3505ca1368dce2": {
          "model_module": "@jupyter-widgets/controls",
          "model_name": "DescriptionStyleModel",
          "model_module_version": "1.5.0",
          "state": {
            "_model_module": "@jupyter-widgets/controls",
            "_model_module_version": "1.5.0",
            "_model_name": "DescriptionStyleModel",
            "_view_count": null,
            "_view_module": "@jupyter-widgets/base",
            "_view_module_version": "1.2.0",
            "_view_name": "StyleView",
            "description_width": ""
          }
        }
      }
    }
  },
  "nbformat": 4,
  "nbformat_minor": 5
}